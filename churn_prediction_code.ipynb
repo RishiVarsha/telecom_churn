{
  "cells": [
    {
      "cell_type": "code",
      "execution_count": 1,
      "metadata": {
        "id": "n2Un4FVF5zeY"
      },
      "outputs": [],
      "source": [
        "import pandas as pd   # Import the pandas library as 'pd' for data manipulation and analysis\n",
        "import numpy as np  # Import the numpy library as 'np' for numerical operations\n",
        "import xgboost # Import the XGBoost library, a popular machine learning algorithm\n",
        "\n",
        "# Import the 'model_selection' module from scikit-learn for splitting the dataset into training and testing sets\n",
        "from sklearn import model_selection\n",
        "\n",
        "# Import the 'accuracy_score' metric from scikit-learn to evaluate model accuracy\n",
        "from sklearn.metrics import accuracy_score\n",
        "\n",
        "# Import the 'LabelEncoder' from scikit-learn for encoding categorical labels as numerical values\n",
        "from sklearn.preprocessing import LabelEncoder\n",
        "\n",
        "# Enable inline plotting of Matplotlib figures in Notebook\n",
        "%matplotlib inline\n",
        "\n",
        "# Import the Matplotlib library for creating visualizations\n",
        "import matplotlib.pyplot as plt\n",
        "\n",
        "# Import the Seaborn library for data visualization and styling\n",
        "import seaborn as sns\n",
        "\n",
        "# Import the StandardScaler class from scikit-learn for feature scaling\n",
        "from sklearn.preprocessing import StandardScaler\n",
        "\n",
        "# Import the RandomForestClassifier class for building a Random Forest classifier\n",
        "from sklearn.ensemble import RandomForestClassifier\n",
        "\n",
        "# Import the train_test_split function for splitting data into training and testing sets\n",
        "from sklearn.model_selection import train_test_split\n",
        "\n",
        "# Import the RandomizedSearchCV class for hyperparameter tuning using random search\n",
        "from sklearn.model_selection import RandomizedSearchCV\n",
        "\n",
        "# Import the KFold class for cross-validation\n",
        "from sklearn.model_selection import KFold\n",
        "\n",
        "# Import performance metrics such as accuracy_score, recall_score, and confusion_matrix for model evaluation\n",
        "from sklearn.metrics import accuracy_score, recall_score, confusion_matrix\n",
        "\n"
      ]
    },
    {
      "cell_type": "code",
      "execution_count": 2,
      "metadata": {
        "id": "F6zkApRI6JmP"
      },
      "outputs": [],
      "source": [
        "# Load a CSV file from the specified path into a pandas DataFrame, specifying that the first row contains data (header=None)\n",
        "data = pd.read_csv('/content/drive/MyDrive/telecom churn project/churn_geekl.csv', header=None)"
      ]
    },
    {
      "cell_type": "code",
      "source": [
        "# Convert the pandas DataFrame to a NumPy array by accessing its values\n",
        "dataset = data.values\n",
        "\n",
        "# Display the first few rows of the loaded dataset to inspect its contents\n",
        "data.head()"
      ],
      "metadata": {
        "colab": {
          "base_uri": "https://localhost:8080/",
          "height": 342
        },
        "id": "LinzvbM9msfL",
        "outputId": "7d3947fb-b9f0-4d50-ad3a-fa57e509494a"
      },
      "execution_count": 3,
      "outputs": [
        {
          "output_type": "execute_result",
          "data": {
            "text/plain": [
              "      0               1          2         3           4           5   \\\n",
              "0  State  Account Length  Area Code     Phone  Int'l Plan  VMail Plan   \n",
              "1     KS             128        415  382-4657          no         yes   \n",
              "2     OH             107        415  371-7191          no         yes   \n",
              "3     NJ             137        415  358-1921          no          no   \n",
              "4     OH              84        408  375-9999         yes          no   \n",
              "\n",
              "              6           7          8           9   ...         11  \\\n",
              "0  VMail Message    Day Mins  Day Calls  Day Charge  ...  Eve Calls   \n",
              "1             25  265.100000        110   45.070000  ...         99   \n",
              "2             26  161.600000        123   27.470000  ...        103   \n",
              "3              0  243.400000        114   41.380000  ...        110   \n",
              "4              0  299.400000         71   50.900000  ...         88   \n",
              "\n",
              "           12          13           14            15         16          17  \\\n",
              "0  Eve Charge  Night Mins  Night Calls  Night Charge  Intl Mins  Intl Calls   \n",
              "1   16.780000  244.700000           91     11.010000  10.000000           3   \n",
              "2   16.620000  254.400000          103     11.450000  13.700000           3   \n",
              "3   10.300000  162.600000          104      7.320000  12.200000           5   \n",
              "4    5.260000  196.900000           89      8.860000   6.600000           7   \n",
              "\n",
              "            18              19      20  \n",
              "0  Intl Charge  CustServ Calls  Churn?  \n",
              "1     2.700000               1  False.  \n",
              "2     3.700000               1  False.  \n",
              "3     3.290000               0  False.  \n",
              "4     1.780000               2  False.  \n",
              "\n",
              "[5 rows x 21 columns]"
            ],
            "text/html": [
              "\n",
              "  <div id=\"df-6ddc1d38-b0b1-4a87-84df-61a46caef6f2\" class=\"colab-df-container\">\n",
              "    <div>\n",
              "<style scoped>\n",
              "    .dataframe tbody tr th:only-of-type {\n",
              "        vertical-align: middle;\n",
              "    }\n",
              "\n",
              "    .dataframe tbody tr th {\n",
              "        vertical-align: top;\n",
              "    }\n",
              "\n",
              "    .dataframe thead th {\n",
              "        text-align: right;\n",
              "    }\n",
              "</style>\n",
              "<table border=\"1\" class=\"dataframe\">\n",
              "  <thead>\n",
              "    <tr style=\"text-align: right;\">\n",
              "      <th></th>\n",
              "      <th>0</th>\n",
              "      <th>1</th>\n",
              "      <th>2</th>\n",
              "      <th>3</th>\n",
              "      <th>4</th>\n",
              "      <th>5</th>\n",
              "      <th>6</th>\n",
              "      <th>7</th>\n",
              "      <th>8</th>\n",
              "      <th>9</th>\n",
              "      <th>...</th>\n",
              "      <th>11</th>\n",
              "      <th>12</th>\n",
              "      <th>13</th>\n",
              "      <th>14</th>\n",
              "      <th>15</th>\n",
              "      <th>16</th>\n",
              "      <th>17</th>\n",
              "      <th>18</th>\n",
              "      <th>19</th>\n",
              "      <th>20</th>\n",
              "    </tr>\n",
              "  </thead>\n",
              "  <tbody>\n",
              "    <tr>\n",
              "      <th>0</th>\n",
              "      <td>State</td>\n",
              "      <td>Account Length</td>\n",
              "      <td>Area Code</td>\n",
              "      <td>Phone</td>\n",
              "      <td>Int'l Plan</td>\n",
              "      <td>VMail Plan</td>\n",
              "      <td>VMail Message</td>\n",
              "      <td>Day Mins</td>\n",
              "      <td>Day Calls</td>\n",
              "      <td>Day Charge</td>\n",
              "      <td>...</td>\n",
              "      <td>Eve Calls</td>\n",
              "      <td>Eve Charge</td>\n",
              "      <td>Night Mins</td>\n",
              "      <td>Night Calls</td>\n",
              "      <td>Night Charge</td>\n",
              "      <td>Intl Mins</td>\n",
              "      <td>Intl Calls</td>\n",
              "      <td>Intl Charge</td>\n",
              "      <td>CustServ Calls</td>\n",
              "      <td>Churn?</td>\n",
              "    </tr>\n",
              "    <tr>\n",
              "      <th>1</th>\n",
              "      <td>KS</td>\n",
              "      <td>128</td>\n",
              "      <td>415</td>\n",
              "      <td>382-4657</td>\n",
              "      <td>no</td>\n",
              "      <td>yes</td>\n",
              "      <td>25</td>\n",
              "      <td>265.100000</td>\n",
              "      <td>110</td>\n",
              "      <td>45.070000</td>\n",
              "      <td>...</td>\n",
              "      <td>99</td>\n",
              "      <td>16.780000</td>\n",
              "      <td>244.700000</td>\n",
              "      <td>91</td>\n",
              "      <td>11.010000</td>\n",
              "      <td>10.000000</td>\n",
              "      <td>3</td>\n",
              "      <td>2.700000</td>\n",
              "      <td>1</td>\n",
              "      <td>False.</td>\n",
              "    </tr>\n",
              "    <tr>\n",
              "      <th>2</th>\n",
              "      <td>OH</td>\n",
              "      <td>107</td>\n",
              "      <td>415</td>\n",
              "      <td>371-7191</td>\n",
              "      <td>no</td>\n",
              "      <td>yes</td>\n",
              "      <td>26</td>\n",
              "      <td>161.600000</td>\n",
              "      <td>123</td>\n",
              "      <td>27.470000</td>\n",
              "      <td>...</td>\n",
              "      <td>103</td>\n",
              "      <td>16.620000</td>\n",
              "      <td>254.400000</td>\n",
              "      <td>103</td>\n",
              "      <td>11.450000</td>\n",
              "      <td>13.700000</td>\n",
              "      <td>3</td>\n",
              "      <td>3.700000</td>\n",
              "      <td>1</td>\n",
              "      <td>False.</td>\n",
              "    </tr>\n",
              "    <tr>\n",
              "      <th>3</th>\n",
              "      <td>NJ</td>\n",
              "      <td>137</td>\n",
              "      <td>415</td>\n",
              "      <td>358-1921</td>\n",
              "      <td>no</td>\n",
              "      <td>no</td>\n",
              "      <td>0</td>\n",
              "      <td>243.400000</td>\n",
              "      <td>114</td>\n",
              "      <td>41.380000</td>\n",
              "      <td>...</td>\n",
              "      <td>110</td>\n",
              "      <td>10.300000</td>\n",
              "      <td>162.600000</td>\n",
              "      <td>104</td>\n",
              "      <td>7.320000</td>\n",
              "      <td>12.200000</td>\n",
              "      <td>5</td>\n",
              "      <td>3.290000</td>\n",
              "      <td>0</td>\n",
              "      <td>False.</td>\n",
              "    </tr>\n",
              "    <tr>\n",
              "      <th>4</th>\n",
              "      <td>OH</td>\n",
              "      <td>84</td>\n",
              "      <td>408</td>\n",
              "      <td>375-9999</td>\n",
              "      <td>yes</td>\n",
              "      <td>no</td>\n",
              "      <td>0</td>\n",
              "      <td>299.400000</td>\n",
              "      <td>71</td>\n",
              "      <td>50.900000</td>\n",
              "      <td>...</td>\n",
              "      <td>88</td>\n",
              "      <td>5.260000</td>\n",
              "      <td>196.900000</td>\n",
              "      <td>89</td>\n",
              "      <td>8.860000</td>\n",
              "      <td>6.600000</td>\n",
              "      <td>7</td>\n",
              "      <td>1.780000</td>\n",
              "      <td>2</td>\n",
              "      <td>False.</td>\n",
              "    </tr>\n",
              "  </tbody>\n",
              "</table>\n",
              "<p>5 rows × 21 columns</p>\n",
              "</div>\n",
              "    <div class=\"colab-df-buttons\">\n",
              "\n",
              "  <div class=\"colab-df-container\">\n",
              "    <button class=\"colab-df-convert\" onclick=\"convertToInteractive('df-6ddc1d38-b0b1-4a87-84df-61a46caef6f2')\"\n",
              "            title=\"Convert this dataframe to an interactive table.\"\n",
              "            style=\"display:none;\">\n",
              "\n",
              "  <svg xmlns=\"http://www.w3.org/2000/svg\" height=\"24px\" viewBox=\"0 -960 960 960\">\n",
              "    <path d=\"M120-120v-720h720v720H120Zm60-500h600v-160H180v160Zm220 220h160v-160H400v160Zm0 220h160v-160H400v160ZM180-400h160v-160H180v160Zm440 0h160v-160H620v160ZM180-180h160v-160H180v160Zm440 0h160v-160H620v160Z\"/>\n",
              "  </svg>\n",
              "    </button>\n",
              "\n",
              "  <style>\n",
              "    .colab-df-container {\n",
              "      display:flex;\n",
              "      gap: 12px;\n",
              "    }\n",
              "\n",
              "    .colab-df-convert {\n",
              "      background-color: #E8F0FE;\n",
              "      border: none;\n",
              "      border-radius: 50%;\n",
              "      cursor: pointer;\n",
              "      display: none;\n",
              "      fill: #1967D2;\n",
              "      height: 32px;\n",
              "      padding: 0 0 0 0;\n",
              "      width: 32px;\n",
              "    }\n",
              "\n",
              "    .colab-df-convert:hover {\n",
              "      background-color: #E2EBFA;\n",
              "      box-shadow: 0px 1px 2px rgba(60, 64, 67, 0.3), 0px 1px 3px 1px rgba(60, 64, 67, 0.15);\n",
              "      fill: #174EA6;\n",
              "    }\n",
              "\n",
              "    .colab-df-buttons div {\n",
              "      margin-bottom: 4px;\n",
              "    }\n",
              "\n",
              "    [theme=dark] .colab-df-convert {\n",
              "      background-color: #3B4455;\n",
              "      fill: #D2E3FC;\n",
              "    }\n",
              "\n",
              "    [theme=dark] .colab-df-convert:hover {\n",
              "      background-color: #434B5C;\n",
              "      box-shadow: 0px 1px 3px 1px rgba(0, 0, 0, 0.15);\n",
              "      filter: drop-shadow(0px 1px 2px rgba(0, 0, 0, 0.3));\n",
              "      fill: #FFFFFF;\n",
              "    }\n",
              "  </style>\n",
              "\n",
              "    <script>\n",
              "      const buttonEl =\n",
              "        document.querySelector('#df-6ddc1d38-b0b1-4a87-84df-61a46caef6f2 button.colab-df-convert');\n",
              "      buttonEl.style.display =\n",
              "        google.colab.kernel.accessAllowed ? 'block' : 'none';\n",
              "\n",
              "      async function convertToInteractive(key) {\n",
              "        const element = document.querySelector('#df-6ddc1d38-b0b1-4a87-84df-61a46caef6f2');\n",
              "        const dataTable =\n",
              "          await google.colab.kernel.invokeFunction('convertToInteractive',\n",
              "                                                    [key], {});\n",
              "        if (!dataTable) return;\n",
              "\n",
              "        const docLinkHtml = 'Like what you see? Visit the ' +\n",
              "          '<a target=\"_blank\" href=https://colab.research.google.com/notebooks/data_table.ipynb>data table notebook</a>'\n",
              "          + ' to learn more about interactive tables.';\n",
              "        element.innerHTML = '';\n",
              "        dataTable['output_type'] = 'display_data';\n",
              "        await google.colab.output.renderOutput(dataTable, element);\n",
              "        const docLink = document.createElement('div');\n",
              "        docLink.innerHTML = docLinkHtml;\n",
              "        element.appendChild(docLink);\n",
              "      }\n",
              "    </script>\n",
              "  </div>\n",
              "\n",
              "\n",
              "<div id=\"df-f6a26ee5-6d16-4784-9726-95352b001ce0\">\n",
              "  <button class=\"colab-df-quickchart\" onclick=\"quickchart('df-f6a26ee5-6d16-4784-9726-95352b001ce0')\"\n",
              "            title=\"Suggest charts\"\n",
              "            style=\"display:none;\">\n",
              "\n",
              "<svg xmlns=\"http://www.w3.org/2000/svg\" height=\"24px\"viewBox=\"0 0 24 24\"\n",
              "     width=\"24px\">\n",
              "    <g>\n",
              "        <path d=\"M19 3H5c-1.1 0-2 .9-2 2v14c0 1.1.9 2 2 2h14c1.1 0 2-.9 2-2V5c0-1.1-.9-2-2-2zM9 17H7v-7h2v7zm4 0h-2V7h2v10zm4 0h-2v-4h2v4z\"/>\n",
              "    </g>\n",
              "</svg>\n",
              "  </button>\n",
              "\n",
              "<style>\n",
              "  .colab-df-quickchart {\n",
              "      --bg-color: #E8F0FE;\n",
              "      --fill-color: #1967D2;\n",
              "      --hover-bg-color: #E2EBFA;\n",
              "      --hover-fill-color: #174EA6;\n",
              "      --disabled-fill-color: #AAA;\n",
              "      --disabled-bg-color: #DDD;\n",
              "  }\n",
              "\n",
              "  [theme=dark] .colab-df-quickchart {\n",
              "      --bg-color: #3B4455;\n",
              "      --fill-color: #D2E3FC;\n",
              "      --hover-bg-color: #434B5C;\n",
              "      --hover-fill-color: #FFFFFF;\n",
              "      --disabled-bg-color: #3B4455;\n",
              "      --disabled-fill-color: #666;\n",
              "  }\n",
              "\n",
              "  .colab-df-quickchart {\n",
              "    background-color: var(--bg-color);\n",
              "    border: none;\n",
              "    border-radius: 50%;\n",
              "    cursor: pointer;\n",
              "    display: none;\n",
              "    fill: var(--fill-color);\n",
              "    height: 32px;\n",
              "    padding: 0;\n",
              "    width: 32px;\n",
              "  }\n",
              "\n",
              "  .colab-df-quickchart:hover {\n",
              "    background-color: var(--hover-bg-color);\n",
              "    box-shadow: 0 1px 2px rgba(60, 64, 67, 0.3), 0 1px 3px 1px rgba(60, 64, 67, 0.15);\n",
              "    fill: var(--button-hover-fill-color);\n",
              "  }\n",
              "\n",
              "  .colab-df-quickchart-complete:disabled,\n",
              "  .colab-df-quickchart-complete:disabled:hover {\n",
              "    background-color: var(--disabled-bg-color);\n",
              "    fill: var(--disabled-fill-color);\n",
              "    box-shadow: none;\n",
              "  }\n",
              "\n",
              "  .colab-df-spinner {\n",
              "    border: 2px solid var(--fill-color);\n",
              "    border-color: transparent;\n",
              "    border-bottom-color: var(--fill-color);\n",
              "    animation:\n",
              "      spin 1s steps(1) infinite;\n",
              "  }\n",
              "\n",
              "  @keyframes spin {\n",
              "    0% {\n",
              "      border-color: transparent;\n",
              "      border-bottom-color: var(--fill-color);\n",
              "      border-left-color: var(--fill-color);\n",
              "    }\n",
              "    20% {\n",
              "      border-color: transparent;\n",
              "      border-left-color: var(--fill-color);\n",
              "      border-top-color: var(--fill-color);\n",
              "    }\n",
              "    30% {\n",
              "      border-color: transparent;\n",
              "      border-left-color: var(--fill-color);\n",
              "      border-top-color: var(--fill-color);\n",
              "      border-right-color: var(--fill-color);\n",
              "    }\n",
              "    40% {\n",
              "      border-color: transparent;\n",
              "      border-right-color: var(--fill-color);\n",
              "      border-top-color: var(--fill-color);\n",
              "    }\n",
              "    60% {\n",
              "      border-color: transparent;\n",
              "      border-right-color: var(--fill-color);\n",
              "    }\n",
              "    80% {\n",
              "      border-color: transparent;\n",
              "      border-right-color: var(--fill-color);\n",
              "      border-bottom-color: var(--fill-color);\n",
              "    }\n",
              "    90% {\n",
              "      border-color: transparent;\n",
              "      border-bottom-color: var(--fill-color);\n",
              "    }\n",
              "  }\n",
              "</style>\n",
              "\n",
              "  <script>\n",
              "    async function quickchart(key) {\n",
              "      const quickchartButtonEl =\n",
              "        document.querySelector('#' + key + ' button');\n",
              "      quickchartButtonEl.disabled = true;  // To prevent multiple clicks.\n",
              "      quickchartButtonEl.classList.add('colab-df-spinner');\n",
              "      try {\n",
              "        const charts = await google.colab.kernel.invokeFunction(\n",
              "            'suggestCharts', [key], {});\n",
              "      } catch (error) {\n",
              "        console.error('Error during call to suggestCharts:', error);\n",
              "      }\n",
              "      quickchartButtonEl.classList.remove('colab-df-spinner');\n",
              "      quickchartButtonEl.classList.add('colab-df-quickchart-complete');\n",
              "    }\n",
              "    (() => {\n",
              "      let quickchartButtonEl =\n",
              "        document.querySelector('#df-f6a26ee5-6d16-4784-9726-95352b001ce0 button');\n",
              "      quickchartButtonEl.style.display =\n",
              "        google.colab.kernel.accessAllowed ? 'block' : 'none';\n",
              "    })();\n",
              "  </script>\n",
              "</div>\n",
              "\n",
              "    </div>\n",
              "  </div>\n"
            ]
          },
          "metadata": {},
          "execution_count": 3
        }
      ]
    },
    {
      "cell_type": "code",
      "execution_count": 4,
      "metadata": {
        "colab": {
          "base_uri": "https://localhost:8080/"
        },
        "id": "t6OI5TfsA5hs",
        "outputId": "f15f849d-879e-4d92-9407-6a51921a51bc"
      },
      "outputs": [
        {
          "output_type": "execute_result",
          "data": {
            "text/plain": [
              "False"
            ]
          },
          "metadata": {},
          "execution_count": 4
        }
      ],
      "source": [
        "# Check for missing (null) values in the 'data' DataFrame by using the `.isnull()` method,\n",
        "# followed by `.any()` to check if any missing values exist for each column,\n",
        "# and then another `.any()` to check if there are any missing values in the entire DataFrame.\n",
        "data.isnull().any().any()"
      ]
    },
    {
      "cell_type": "code",
      "execution_count": 5,
      "metadata": {
        "colab": {
          "base_uri": "https://localhost:8080/",
          "height": 435
        },
        "id": "Holyr7RKkbLp",
        "outputId": "c6e1254b-a14a-4013-d91e-8cdaa2860709"
      },
      "outputs": [
        {
          "output_type": "execute_result",
          "data": {
            "text/plain": [
              "<Axes: >"
            ]
          },
          "metadata": {},
          "execution_count": 5
        },
        {
          "output_type": "display_data",
          "data": {
            "text/plain": [
              "<Figure size 2500x1000 with 2 Axes>"
            ],
            "image/png": "[encoded data removed]"
          },
          "metadata": {}
        }
      ],
      "source": [
        "# Import the 'missingno' library as 'msno' for visualizing missing data\n",
        "import missingno as msno\n",
        "\n",
        "# Create a matrix visualization of missing data in the 'data' DataFrame using 'msno.matrix()'\n",
        "msno.matrix(data)"
      ]
    },
    {
      "cell_type": "code",
      "execution_count": 6,
      "metadata": {
        "id": "UkL5lY1C6NEe"
      },
      "outputs": [],
      "source": [
        "# Set the column names of the 'data' DataFrame to the values in the first row (index 0)\n",
        "data.columns = data.iloc[0]\n",
        "\n",
        "# Drop the first row (index 0) from the 'data' DataFrame to make it the header row\n",
        "data = data.drop(data.index[0])"
      ]
    },
    {
      "cell_type": "code",
      "source": [
        "# Get the list of column names from the 'data' DataFrame using the 'columns' attribute\n",
        "col_names = data.columns.tolist()"
      ],
      "metadata": {
        "id": "rIYJS2zonWDT"
      },
      "execution_count": 7,
      "outputs": []
    },
    {
      "cell_type": "code",
      "execution_count": 8,
      "metadata": {
        "colab": {
          "base_uri": "https://localhost:8080/"
        },
        "id": "8rOarIYu6PTt",
        "outputId": "d2f3e134-1ae9-440a-f111-6c6aa57fdd4f"
      },
      "outputs": [
        {
          "output_type": "execute_result",
          "data": {
            "text/plain": [
              "['State',\n",
              " 'Account Length',\n",
              " 'Area Code',\n",
              " 'Phone',\n",
              " \"Int'l Plan\",\n",
              " 'VMail Plan',\n",
              " 'VMail Message',\n",
              " 'Day Mins',\n",
              " 'Day Calls',\n",
              " 'Day Charge',\n",
              " 'Eve Mins',\n",
              " 'Eve Calls',\n",
              " 'Eve Charge',\n",
              " 'Night Mins',\n",
              " 'Night Calls',\n",
              " 'Night Charge',\n",
              " 'Intl Mins',\n",
              " 'Intl Calls',\n",
              " 'Intl Charge',\n",
              " 'CustServ Calls',\n",
              " 'Churn?']"
            ]
          },
          "metadata": {},
          "execution_count": 8
        }
      ],
      "source": [
        "# 'col_names' now contains the names of the columns as a list\n",
        "col_names"
      ]
    },
    {
      "cell_type": "code",
      "execution_count": 9,
      "metadata": {
        "id": "Sj2ndTA96Qy6"
      },
      "outputs": [],
      "source": [
        "# Rename specific columns in the 'data' DataFrame using a dictionary for column name mapping\n",
        "data.rename(columns={ 'Account Length':'Account_Length',\n",
        "                     'Area Code':'Area_Code',\n",
        "                     \"Int'l Plan\":'Intl_Plan',\n",
        "                      'VMail Plan':'VMail_Plan',\n",
        "                       'VMail Message':'VMail_Message',\n",
        "                       'Day Mins':'Day_Mins',\n",
        "                       'Day Calls':'Day_Calls',\n",
        "                       'Day Charge':'Day_Charge',\n",
        "                       'Eve Mins':'Eve_Mins',\n",
        "                      'Eve Calls': 'Eve_Calls',\n",
        "                      'Eve Charge':'Eve_Charge',\n",
        "                      'Night Mins':'Night_Mins',\n",
        "                      'Night Calls':'Night_Calls',\n",
        "                     'Night Charge':'Night_Charge',\n",
        "                     'Intl Mins':'Intl_Mins',\n",
        "                      'Intl Calls':'Intl_Calls',\n",
        "                     'Intl Charge':'Intl_Charge',\n",
        "                     'CustServ Calls':'CustServ_Calls',\n",
        "                     'Churn?':'Churn'},inplace=True)"
      ]
    },
    {
      "cell_type": "code",
      "source": [
        "data.info()"
      ],
      "metadata": {
        "colab": {
          "base_uri": "https://localhost:8080/"
        },
        "id": "bcJwuSas1iyQ",
        "outputId": "6dc4975c-5e3b-469b-b089-2575acdc8fe4"
      },
      "execution_count": 10,
      "outputs": [
        {
          "output_type": "stream",
          "name": "stdout",
          "text": [
            "<class 'pandas.core.frame.DataFrame'>\n",
            "RangeIndex: 3333 entries, 1 to 3333\n",
            "Data columns (total 21 columns):\n",
            " #   Column          Non-Null Count  Dtype \n",
            "---  ------          --------------  ----- \n",
            " 0   State           3333 non-null   object\n",
            " 1   Account_Length  3333 non-null   object\n",
            " 2   Area_Code       3333 non-null   object\n",
            " 3   Phone           3333 non-null   object\n",
            " 4   Intl_Plan       3333 non-null   object\n",
            " 5   VMail_Plan      3333 non-null   object\n",
            " 6   VMail_Message   3333 non-null   object\n",
            " 7   Day_Mins        3333 non-null   object\n",
            " 8   Day_Calls       3333 non-null   object\n",
            " 9   Day_Charge      3333 non-null   object\n",
            " 10  Eve_Mins        3333 non-null   object\n",
            " 11  Eve_Calls       3333 non-null   object\n",
            " 12  Eve_Charge      3333 non-null   object\n",
            " 13  Night_Mins      3333 non-null   object\n",
            " 14  Night_Calls     3333 non-null   object\n",
            " 15  Night_Charge    3333 non-null   object\n",
            " 16  Intl_Mins       3333 non-null   object\n",
            " 17  Intl_Calls      3333 non-null   object\n",
            " 18  Intl_Charge     3333 non-null   object\n",
            " 19  CustServ_Calls  3333 non-null   object\n",
            " 20  Churn           3333 non-null   object\n",
            "dtypes: object(21)\n",
            "memory usage: 546.9+ KB\n"
          ]
        }
      ]
    },
    {
      "cell_type": "code",
      "execution_count": 11,
      "metadata": {
        "colab": {
          "base_uri": "https://localhost:8080/"
        },
        "id": "KfbBqUJAlS5p",
        "outputId": "567e868b-9ca6-4c1f-f22b-4c11141715f3"
      },
      "outputs": [
        {
          "output_type": "stream",
          "name": "stdout",
          "text": [
            "Churned Customer Count: 483\n",
            "Non-Churned Customer Count: 2850\n"
          ]
        }
      ],
      "source": [
        "# Filter churned customers (Churn == \"True.\")\n",
        "churned_customers = data[data['Churn'] == \"True.\"]\n",
        "\n",
        "# Filter non-churned customers (Churn == \"False.\")\n",
        "non_churned_customers = data[data['Churn'] == \"False.\"]\n",
        "\n",
        "# Display churned customer count\n",
        "print(\"Churned Customer Count:\", len(churned_customers))\n",
        "\n",
        "# Display non-churned customer count\n",
        "print(\"Non-Churned Customer Count:\", len(non_churned_customers))\n"
      ]
    },
    {
      "cell_type": "code",
      "execution_count": 12,
      "metadata": {
        "id": "rLlev165BuOL"
      },
      "outputs": [],
      "source": [
        "# Convert the 'Day_Charge', 'Eve_Charge', and 'Night_Charge' columns in the 'data' DataFrame to numeric data types.\n",
        "# The 'errors' parameter is set to 'coerce' to handle and replace any non-numeric values with NaN (Not-a-Number).\n",
        "\n",
        "data['Day_Charge'] = pd.to_numeric(data['Day_Charge'], errors='coerce')\n",
        "data['Eve_Charge'] = pd.to_numeric(data['Eve_Charge'], errors='coerce')\n",
        "data['Night_Charge'] = pd.to_numeric(data['Night_Charge'], errors='coerce')"
      ]
    },
    {
      "cell_type": "code",
      "execution_count": 13,
      "metadata": {
        "id": "I9DrZ24ZCCWw"
      },
      "outputs": [],
      "source": [
        "# Convert 'Day_Calls' to numeric\n",
        "data['Day_Calls'] = pd.to_numeric(data['Day_Calls'], errors='coerce')\n",
        "\n",
        "# Convert 'Eve_Calls' to numeric\n",
        "data['Eve_Calls'] = pd.to_numeric(data['Eve_Calls'], errors='coerce')\n",
        "\n",
        "# Convert 'Night_Calls' to numeric\n",
        "data['Night_Calls'] = pd.to_numeric(data['Night_Calls'], errors='coerce')\n"
      ]
    },
    {
      "cell_type": "code",
      "execution_count": 14,
      "metadata": {
        "id": "-5l7_8nL-8c_"
      },
      "outputs": [],
      "source": [
        "# Now, you can calculate the new features\n",
        "data['Total_Calls'] = data['Day_Calls'] + data['Eve_Calls'] + data['Night_Calls']\n",
        "data['Total_Charges'] = data['Day_Charge'] + data['Eve_Charge'] + data['Night_Charge']"
      ]
    },
    {
      "cell_type": "code",
      "execution_count": 15,
      "metadata": {
        "id": "gN0GKyd9AKwc"
      },
      "outputs": [],
      "source": [
        "data['Day_Mins'] = pd.to_numeric(data['Day_Mins'], errors='coerce')\n",
        "data['Total_Calls'] = pd.to_numeric(data['Total_Calls'], errors='coerce')"
      ]
    },
    {
      "cell_type": "code",
      "execution_count": 16,
      "metadata": {
        "id": "xP-Pi7dY__1u"
      },
      "outputs": [],
      "source": [
        "# Calculate a new column 'Avg_Call_Duration' by dividing 'Day_Mins' by 'Total_Calls' in the 'data' DataFrame\n",
        "data['Avg_Call_Duration'] = data['Day_Mins'] / data['Total_Calls']"
      ]
    },
    {
      "cell_type": "code",
      "execution_count": 17,
      "metadata": {
        "id": "k6xLnZgWAdLC"
      },
      "outputs": [],
      "source": [
        "data['Intl_Mins'] = pd.to_numeric(data['Intl_Mins'], errors='coerce')\n",
        "data['Intl_Calls'] = pd.to_numeric(data['Intl_Calls'], errors='coerce')"
      ]
    },
    {
      "cell_type": "code",
      "execution_count": 18,
      "metadata": {
        "id": "R8d4SGcWAVoP"
      },
      "outputs": [],
      "source": [
        "data['Avg_Intl_Call_Duration'] = data['Intl_Mins'] / data['Intl_Calls']"
      ]
    },
    {
      "cell_type": "code",
      "execution_count": 19,
      "metadata": {
        "id": "u7TZpcTu_ajB"
      },
      "outputs": [],
      "source": [
        "# Calculate total international calls and average international call duration\n",
        "data['Total_International_Calls'] = data['Intl_Calls']"
      ]
    },
    {
      "cell_type": "code",
      "execution_count": 20,
      "metadata": {
        "colab": {
          "base_uri": "https://localhost:8080/",
          "height": 342
        },
        "id": "nB4cm3jOA3yn",
        "outputId": "d1b3b459-a6cb-4340-da7d-bfe936fb2ca6"
      },
      "outputs": [
        {
          "output_type": "execute_result",
          "data": {
            "text/plain": [
              "0 State Account_Length Area_Code     Phone Intl_Plan VMail_Plan VMail_Message  \\\n",
              "1    KS            128       415  382-4657        no        yes            25   \n",
              "2    OH            107       415  371-7191        no        yes            26   \n",
              "3    NJ            137       415  358-1921        no         no             0   \n",
              "4    OH             84       408  375-9999       yes         no             0   \n",
              "5    OK             75       415  330-6626       yes         no             0   \n",
              "\n",
              "0  Day_Mins  Day_Calls  Day_Charge  ... Intl_Mins  Intl_Calls  Intl_Charge  \\\n",
              "1     265.1        110       45.07  ...      10.0           3     2.700000   \n",
              "2     161.6        123       27.47  ...      13.7           3     3.700000   \n",
              "3     243.4        114       41.38  ...      12.2           5     3.290000   \n",
              "4     299.4         71       50.90  ...       6.6           7     1.780000   \n",
              "5     166.7        113       28.34  ...      10.1           3     2.730000   \n",
              "\n",
              "0 CustServ_Calls   Churn  Total_Calls  Total_Charges  Avg_Call_Duration  \\\n",
              "1              1  False.          300          72.86           0.883667   \n",
              "2              1  False.          329          55.54           0.491185   \n",
              "3              0  False.          328          59.00           0.742073   \n",
              "4              2  False.          248          65.02           1.207258   \n",
              "5              3  False.          356          49.36           0.468258   \n",
              "\n",
              "0 Avg_Intl_Call_Duration Total_International_Calls  \n",
              "1               3.333333                         3  \n",
              "2               4.566667                         3  \n",
              "3               2.440000                         5  \n",
              "4               0.942857                         7  \n",
              "5               3.366667                         3  \n",
              "\n",
              "[5 rows x 26 columns]"
            ],
            "text/html": [
              "\n",
              "  <div id=\"df-54acf65c-4774-4cc2-b7fa-2bfe725c399b\" class=\"colab-df-container\">\n",
              "    <div>\n",
              "<style scoped>\n",
              "    .dataframe tbody tr th:only-of-type {\n",
              "        vertical-align: middle;\n",
              "    }\n",
              "\n",
              "    .dataframe tbody tr th {\n",
              "        vertical-align: top;\n",
              "    }\n",
              "\n",
              "    .dataframe thead th {\n",
              "        text-align: right;\n",
              "    }\n",
              "</style>\n",
              "<table border=\"1\" class=\"dataframe\">\n",
              "  <thead>\n",
              "    <tr style=\"text-align: right;\">\n",
              "      <th></th>\n",
              "      <th>State</th>\n",
              "      <th>Account_Length</th>\n",
              "      <th>Area_Code</th>\n",
              "      <th>Phone</th>\n",
              "      <th>Intl_Plan</th>\n",
              "      <th>VMail_Plan</th>\n",
              "      <th>VMail_Message</th>\n",
              "      <th>Day_Mins</th>\n",
              "      <th>Day_Calls</th>\n",
              "      <th>Day_Charge</th>\n",
              "      <th>...</th>\n",
              "      <th>Intl_Mins</th>\n",
              "      <th>Intl_Calls</th>\n",
              "      <th>Intl_Charge</th>\n",
              "      <th>CustServ_Calls</th>\n",
              "      <th>Churn</th>\n",
              "      <th>Total_Calls</th>\n",
              "      <th>Total_Charges</th>\n",
              "      <th>Avg_Call_Duration</th>\n",
              "      <th>Avg_Intl_Call_Duration</th>\n",
              "      <th>Total_International_Calls</th>\n",
              "    </tr>\n",
              "  </thead>\n",
              "  <tbody>\n",
              "    <tr>\n",
              "      <th>1</th>\n",
              "      <td>KS</td>\n",
              "      <td>128</td>\n",
              "      <td>415</td>\n",
              "      <td>382-4657</td>\n",
              "      <td>no</td>\n",
              "      <td>yes</td>\n",
              "      <td>25</td>\n",
              "      <td>265.1</td>\n",
              "      <td>110</td>\n",
              "      <td>45.07</td>\n",
              "      <td>...</td>\n",
              "      <td>10.0</td>\n",
              "      <td>3</td>\n",
              "      <td>2.700000</td>\n",
              "      <td>1</td>\n",
              "      <td>False.</td>\n",
              "      <td>300</td>\n",
              "      <td>72.86</td>\n",
              "      <td>0.883667</td>\n",
              "      <td>3.333333</td>\n",
              "      <td>3</td>\n",
              "    </tr>\n",
              "    <tr>\n",
              "      <th>2</th>\n",
              "      <td>OH</td>\n",
              "      <td>107</td>\n",
              "      <td>415</td>\n",
              "      <td>371-7191</td>\n",
              "      <td>no</td>\n",
              "      <td>yes</td>\n",
              "      <td>26</td>\n",
              "      <td>161.6</td>\n",
              "      <td>123</td>\n",
              "      <td>27.47</td>\n",
              "      <td>...</td>\n",
              "      <td>13.7</td>\n",
              "      <td>3</td>\n",
              "      <td>3.700000</td>\n",
              "      <td>1</td>\n",
              "      <td>False.</td>\n",
              "      <td>329</td>\n",
              "      <td>55.54</td>\n",
              "      <td>0.491185</td>\n",
              "      <td>4.566667</td>\n",
              "      <td>3</td>\n",
              "    </tr>\n",
              "    <tr>\n",
              "      <th>3</th>\n",
              "      <td>NJ</td>\n",
              "      <td>137</td>\n",
              "      <td>415</td>\n",
              "      <td>358-1921</td>\n",
              "      <td>no</td>\n",
              "      <td>no</td>\n",
              "      <td>0</td>\n",
              "      <td>243.4</td>\n",
              "      <td>114</td>\n",
              "      <td>41.38</td>\n",
              "      <td>...</td>\n",
              "      <td>12.2</td>\n",
              "      <td>5</td>\n",
              "      <td>3.290000</td>\n",
              "      <td>0</td>\n",
              "      <td>False.</td>\n",
              "      <td>328</td>\n",
              "      <td>59.00</td>\n",
              "      <td>0.742073</td>\n",
              "      <td>2.440000</td>\n",
              "      <td>5</td>\n",
              "    </tr>\n",
              "    <tr>\n",
              "      <th>4</th>\n",
              "      <td>OH</td>\n",
              "      <td>84</td>\n",
              "      <td>408</td>\n",
              "      <td>375-9999</td>\n",
              "      <td>yes</td>\n",
              "      <td>no</td>\n",
              "      <td>0</td>\n",
              "      <td>299.4</td>\n",
              "      <td>71</td>\n",
              "      <td>50.90</td>\n",
              "      <td>...</td>\n",
              "      <td>6.6</td>\n",
              "      <td>7</td>\n",
              "      <td>1.780000</td>\n",
              "      <td>2</td>\n",
              "      <td>False.</td>\n",
              "      <td>248</td>\n",
              "      <td>65.02</td>\n",
              "      <td>1.207258</td>\n",
              "      <td>0.942857</td>\n",
              "      <td>7</td>\n",
              "    </tr>\n",
              "    <tr>\n",
              "      <th>5</th>\n",
              "      <td>OK</td>\n",
              "      <td>75</td>\n",
              "      <td>415</td>\n",
              "      <td>330-6626</td>\n",
              "      <td>yes</td>\n",
              "      <td>no</td>\n",
              "      <td>0</td>\n",
              "      <td>166.7</td>\n",
              "      <td>113</td>\n",
              "      <td>28.34</td>\n",
              "      <td>...</td>\n",
              "      <td>10.1</td>\n",
              "      <td>3</td>\n",
              "      <td>2.730000</td>\n",
              "      <td>3</td>\n",
              "      <td>False.</td>\n",
              "      <td>356</td>\n",
              "      <td>49.36</td>\n",
              "      <td>0.468258</td>\n",
              "      <td>3.366667</td>\n",
              "      <td>3</td>\n",
              "    </tr>\n",
              "  </tbody>\n",
              "</table>\n",
              "<p>5 rows × 26 columns</p>\n",
              "</div>\n",
              "    <div class=\"colab-df-buttons\">\n",
              "\n",
              "  <div class=\"colab-df-container\">\n",
              "    <button class=\"colab-df-convert\" onclick=\"convertToInteractive('df-54acf65c-4774-4cc2-b7fa-2bfe725c399b')\"\n",
              "            title=\"Convert this dataframe to an interactive table.\"\n",
              "            style=\"display:none;\">\n",
              "\n",
              "  <svg xmlns=\"http://www.w3.org/2000/svg\" height=\"24px\" viewBox=\"0 -960 960 960\">\n",
              "    <path d=\"M120-120v-720h720v720H120Zm60-500h600v-160H180v160Zm220 220h160v-160H400v160Zm0 220h160v-160H400v160ZM180-400h160v-160H180v160Zm440 0h160v-160H620v160ZM180-180h160v-160H180v160Zm440 0h160v-160H620v160Z\"/>\n",
              "  </svg>\n",
              "    </button>\n",
              "\n",
              "  <style>\n",
              "    .colab-df-container {\n",
              "      display:flex;\n",
              "      gap: 12px;\n",
              "    }\n",
              "\n",
              "    .colab-df-convert {\n",
              "      background-color: #E8F0FE;\n",
              "      border: none;\n",
              "      border-radius: 50%;\n",
              "      cursor: pointer;\n",
              "      display: none;\n",
              "      fill: #1967D2;\n",
              "      height: 32px;\n",
              "      padding: 0 0 0 0;\n",
              "      width: 32px;\n",
              "    }\n",
              "\n",
              "    .colab-df-convert:hover {\n",
              "      background-color: #E2EBFA;\n",
              "      box-shadow: 0px 1px 2px rgba(60, 64, 67, 0.3), 0px 1px 3px 1px rgba(60, 64, 67, 0.15);\n",
              "      fill: #174EA6;\n",
              "    }\n",
              "\n",
              "    .colab-df-buttons div {\n",
              "      margin-bottom: 4px;\n",
              "    }\n",
              "\n",
              "    [theme=dark] .colab-df-convert {\n",
              "      background-color: #3B4455;\n",
              "      fill: #D2E3FC;\n",
              "    }\n",
              "\n",
              "    [theme=dark] .colab-df-convert:hover {\n",
              "      background-color: #434B5C;\n",
              "      box-shadow: 0px 1px 3px 1px rgba(0, 0, 0, 0.15);\n",
              "      filter: drop-shadow(0px 1px 2px rgba(0, 0, 0, 0.3));\n",
              "      fill: #FFFFFF;\n",
              "    }\n",
              "  </style>\n",
              "\n",
              "    <script>\n",
              "      const buttonEl =\n",
              "        document.querySelector('#df-54acf65c-4774-4cc2-b7fa-2bfe725c399b button.colab-df-convert');\n",
              "      buttonEl.style.display =\n",
              "        google.colab.kernel.accessAllowed ? 'block' : 'none';\n",
              "\n",
              "      async function convertToInteractive(key) {\n",
              "        const element = document.querySelector('#df-54acf65c-4774-4cc2-b7fa-2bfe725c399b');\n",
              "        const dataTable =\n",
              "          await google.colab.kernel.invokeFunction('convertToInteractive',\n",
              "                                                    [key], {});\n",
              "        if (!dataTable) return;\n",
              "\n",
              "        const docLinkHtml = 'Like what you see? Visit the ' +\n",
              "          '<a target=\"_blank\" href=https://colab.research.google.com/notebooks/data_table.ipynb>data table notebook</a>'\n",
              "          + ' to learn more about interactive tables.';\n",
              "        element.innerHTML = '';\n",
              "        dataTable['output_type'] = 'display_data';\n",
              "        await google.colab.output.renderOutput(dataTable, element);\n",
              "        const docLink = document.createElement('div');\n",
              "        docLink.innerHTML = docLinkHtml;\n",
              "        element.appendChild(docLink);\n",
              "      }\n",
              "    </script>\n",
              "  </div>\n",
              "\n",
              "\n",
              "<div id=\"df-fe4da14a-a1ff-4aef-b476-92dd80a4a974\">\n",
              "  <button class=\"colab-df-quickchart\" onclick=\"quickchart('df-fe4da14a-a1ff-4aef-b476-92dd80a4a974')\"\n",
              "            title=\"Suggest charts\"\n",
              "            style=\"display:none;\">\n",
              "\n",
              "<svg xmlns=\"http://www.w3.org/2000/svg\" height=\"24px\"viewBox=\"0 0 24 24\"\n",
              "     width=\"24px\">\n",
              "    <g>\n",
              "        <path d=\"M19 3H5c-1.1 0-2 .9-2 2v14c0 1.1.9 2 2 2h14c1.1 0 2-.9 2-2V5c0-1.1-.9-2-2-2zM9 17H7v-7h2v7zm4 0h-2V7h2v10zm4 0h-2v-4h2v4z\"/>\n",
              "    </g>\n",
              "</svg>\n",
              "  </button>\n",
              "\n",
              "<style>\n",
              "  .colab-df-quickchart {\n",
              "      --bg-color: #E8F0FE;\n",
              "      --fill-color: #1967D2;\n",
              "      --hover-bg-color: #E2EBFA;\n",
              "      --hover-fill-color: #174EA6;\n",
              "      --disabled-fill-color: #AAA;\n",
              "      --disabled-bg-color: #DDD;\n",
              "  }\n",
              "\n",
              "  [theme=dark] .colab-df-quickchart {\n",
              "      --bg-color: #3B4455;\n",
              "      --fill-color: #D2E3FC;\n",
              "      --hover-bg-color: #434B5C;\n",
              "      --hover-fill-color: #FFFFFF;\n",
              "      --disabled-bg-color: #3B4455;\n",
              "      --disabled-fill-color: #666;\n",
              "  }\n",
              "\n",
              "  .colab-df-quickchart {\n",
              "    background-color: var(--bg-color);\n",
              "    border: none;\n",
              "    border-radius: 50%;\n",
              "    cursor: pointer;\n",
              "    display: none;\n",
              "    fill: var(--fill-color);\n",
              "    height: 32px;\n",
              "    padding: 0;\n",
              "    width: 32px;\n",
              "  }\n",
              "\n",
              "  .colab-df-quickchart:hover {\n",
              "    background-color: var(--hover-bg-color);\n",
              "    box-shadow: 0 1px 2px rgba(60, 64, 67, 0.3), 0 1px 3px 1px rgba(60, 64, 67, 0.15);\n",
              "    fill: var(--button-hover-fill-color);\n",
              "  }\n",
              "\n",
              "  .colab-df-quickchart-complete:disabled,\n",
              "  .colab-df-quickchart-complete:disabled:hover {\n",
              "    background-color: var(--disabled-bg-color);\n",
              "    fill: var(--disabled-fill-color);\n",
              "    box-shadow: none;\n",
              "  }\n",
              "\n",
              "  .colab-df-spinner {\n",
              "    border: 2px solid var(--fill-color);\n",
              "    border-color: transparent;\n",
              "    border-bottom-color: var(--fill-color);\n",
              "    animation:\n",
              "      spin 1s steps(1) infinite;\n",
              "  }\n",
              "\n",
              "  @keyframes spin {\n",
              "    0% {\n",
              "      border-color: transparent;\n",
              "      border-bottom-color: var(--fill-color);\n",
              "      border-left-color: var(--fill-color);\n",
              "    }\n",
              "    20% {\n",
              "      border-color: transparent;\n",
              "      border-left-color: var(--fill-color);\n",
              "      border-top-color: var(--fill-color);\n",
              "    }\n",
              "    30% {\n",
              "      border-color: transparent;\n",
              "      border-left-color: var(--fill-color);\n",
              "      border-top-color: var(--fill-color);\n",
              "      border-right-color: var(--fill-color);\n",
              "    }\n",
              "    40% {\n",
              "      border-color: transparent;\n",
              "      border-right-color: var(--fill-color);\n",
              "      border-top-color: var(--fill-color);\n",
              "    }\n",
              "    60% {\n",
              "      border-color: transparent;\n",
              "      border-right-color: var(--fill-color);\n",
              "    }\n",
              "    80% {\n",
              "      border-color: transparent;\n",
              "      border-right-color: var(--fill-color);\n",
              "      border-bottom-color: var(--fill-color);\n",
              "    }\n",
              "    90% {\n",
              "      border-color: transparent;\n",
              "      border-bottom-color: var(--fill-color);\n",
              "    }\n",
              "  }\n",
              "</style>\n",
              "\n",
              "  <script>\n",
              "    async function quickchart(key) {\n",
              "      const quickchartButtonEl =\n",
              "        document.querySelector('#' + key + ' button');\n",
              "      quickchartButtonEl.disabled = true;  // To prevent multiple clicks.\n",
              "      quickchartButtonEl.classList.add('colab-df-spinner');\n",
              "      try {\n",
              "        const charts = await google.colab.kernel.invokeFunction(\n",
              "            'suggestCharts', [key], {});\n",
              "      } catch (error) {\n",
              "        console.error('Error during call to suggestCharts:', error);\n",
              "      }\n",
              "      quickchartButtonEl.classList.remove('colab-df-spinner');\n",
              "      quickchartButtonEl.classList.add('colab-df-quickchart-complete');\n",
              "    }\n",
              "    (() => {\n",
              "      let quickchartButtonEl =\n",
              "        document.querySelector('#df-fe4da14a-a1ff-4aef-b476-92dd80a4a974 button');\n",
              "      quickchartButtonEl.style.display =\n",
              "        google.colab.kernel.accessAllowed ? 'block' : 'none';\n",
              "    })();\n",
              "  </script>\n",
              "</div>\n",
              "\n",
              "    </div>\n",
              "  </div>\n"
            ]
          },
          "metadata": {},
          "execution_count": 20
        }
      ],
      "source": [
        "# Display the first few rows of the 'data' DataFrame to inspect the dataset's structure and contents\n",
        "data.head()"
      ]
    },
    {
      "cell_type": "code",
      "execution_count": 21,
      "metadata": {
        "id": "q4nw_qFCKrtc"
      },
      "outputs": [],
      "source": [
        "# Create a new DataFrame 'df' using the existing 'data' DataFrame\n",
        "df = pd.DataFrame(data)"
      ]
    },
    {
      "cell_type": "code",
      "execution_count": 22,
      "metadata": {
        "id": "zj1WDhXmLCxw"
      },
      "outputs": [],
      "source": [
        "# Specify the file path where you want to save the CSV file\n",
        "output_csv_file = \"output_dataset.csv\""
      ]
    },
    {
      "cell_type": "code",
      "execution_count": 23,
      "metadata": {
        "id": "cydBVGBdLFdj"
      },
      "outputs": [],
      "source": [
        "# Export the DataFrame to the CSV file\n",
        "df.to_csv(output_csv_file, index=False)"
      ]
    },
    {
      "cell_type": "code",
      "execution_count": 24,
      "metadata": {
        "colab": {
          "base_uri": "https://localhost:8080/"
        },
        "id": "xODC-vuN6T2s",
        "outputId": "cdaf6ac9-a0f1-4f50-fbc4-bbb245bb0ed4"
      },
      "outputs": [
        {
          "output_type": "stream",
          "name": "stdout",
          "text": [
            "\n",
            " no     3010\n",
            "yes     323\n",
            "Name: Intl_Plan, dtype: int64\n",
            "\n",
            " no     2411\n",
            "yes     922\n",
            "Name: VMail_Plan, dtype: int64\n",
            "\n",
            " False.    2850\n",
            "True.      483\n",
            "Name: Churn, dtype: int64\n"
          ]
        }
      ],
      "source": [
        "# Display the counts of unique values in the 'Intl_Plan', 'VMail_Plan', and 'Churn' columns of the 'data' DataFrame\n",
        "\n",
        "# Counts of unique values in the 'Intl_Plan' column\n",
        "print('\\n', data.Intl_Plan.value_counts())\n",
        "\n",
        "# Counts of unique values in the 'VMail_Plan' column\n",
        "print('\\n', data.VMail_Plan.value_counts())\n",
        "\n",
        "# Counts of unique values in the 'Churn' column\n",
        "print('\\n', data.Churn.value_counts())"
      ]
    },
    {
      "cell_type": "code",
      "execution_count": 25,
      "metadata": {
        "colab": {
          "base_uri": "https://localhost:8080/"
        },
        "id": "hJHWrNDM6XA_",
        "outputId": "fef46d28-7981-443e-fe0a-734dbe856c3f"
      },
      "outputs": [
        {
          "output_type": "stream",
          "name": "stdout",
          "text": [
            "\n",
            " 0.0    3010\n",
            "1.0     323\n",
            "Name: Intl_Plan, dtype: int64\n",
            "\n",
            " 0.0    2411\n",
            "1.0     922\n",
            "Name: VMail_Plan, dtype: int64\n",
            "\n",
            " 0.0    2850\n",
            "1.0     483\n",
            "Name: Churn, dtype: int64\n"
          ]
        }
      ],
      "source": [
        "# Convert specific columns ('Intl_Plan', 'VMail_Plan', and 'Churn') from binary text values to binary numeric values (0 or 1)\n",
        "data.Intl_Plan = data.Intl_Plan.apply( lambda x: 1.0 * (x=='yes') )\n",
        "print('\\n', data.Intl_Plan.value_counts())\n",
        "\n",
        "data.VMail_Plan = data.VMail_Plan.apply( lambda x: 1.0 * (x=='yes') )\n",
        "print('\\n', data.VMail_Plan.value_counts())\n",
        "\n",
        "data.Churn = data.Churn.apply( lambda x: 1.0 * (x=='True.') )\n",
        "print('\\n', data.Churn.value_counts())"
      ]
    },
    {
      "cell_type": "code",
      "execution_count": 26,
      "metadata": {
        "colab": {
          "base_uri": "https://localhost:8080/",
          "height": 320
        },
        "id": "ZEGhnjzV6bMx",
        "outputId": "6faf797e-5079-4711-a0e7-c9b4a5aafb35"
      },
      "outputs": [
        {
          "output_type": "execute_result",
          "data": {
            "text/plain": [
              "0        Intl_Plan   VMail_Plan     Day_Mins    Day_Calls   Day_Charge  \\\n",
              "count  3333.000000  3333.000000  3333.000000  3333.000000  3333.000000   \n",
              "mean      0.096910     0.276628   179.775098   100.435644    30.562307   \n",
              "std       0.295879     0.447398    54.467389    20.069084     9.259435   \n",
              "min       0.000000     0.000000     0.000000     0.000000     0.000000   \n",
              "25%       0.000000     0.000000   143.700000    87.000000    24.430000   \n",
              "50%       0.000000     0.000000   179.400000   101.000000    30.500000   \n",
              "75%       0.000000     1.000000   216.400000   114.000000    36.790000   \n",
              "max       1.000000     1.000000   350.800000   165.000000    59.640000   \n",
              "\n",
              "0        Eve_Calls   Eve_Charge  Night_Calls  Night_Charge    Intl_Mins  \\\n",
              "count  3333.000000  3333.000000  3333.000000   3333.000000  3333.000000   \n",
              "mean    100.114311    17.083540   100.107711      9.039325    10.237294   \n",
              "std      19.922625     4.310668    19.568609      2.275873     2.791840   \n",
              "min       0.000000     0.000000    33.000000      1.040000     0.000000   \n",
              "25%      87.000000    14.160000    87.000000      7.520000     8.500000   \n",
              "50%     100.000000    17.120000   100.000000      9.050000    10.300000   \n",
              "75%     114.000000    20.000000   113.000000     10.590000    12.100000   \n",
              "max     170.000000    30.910000   175.000000     17.770000    20.000000   \n",
              "\n",
              "0       Intl_Calls        Churn  Total_Calls  Total_Charges  \\\n",
              "count  3333.000000  3333.000000  3333.000000    3333.000000   \n",
              "mean      4.479448     0.144914   300.657666      56.685173   \n",
              "std       2.461214     0.352067    34.328232      10.487816   \n",
              "min       0.000000     0.000000   188.000000      19.980000   \n",
              "25%       3.000000     0.000000   278.000000      49.590000   \n",
              "50%       4.000000     0.000000   301.000000      56.630000   \n",
              "75%       6.000000     0.000000   324.000000      63.650000   \n",
              "max      20.000000     1.000000   410.000000      92.560000   \n",
              "\n",
              "0      Avg_Call_Duration  Avg_Intl_Call_Duration  Total_International_Calls  \n",
              "count        3333.000000             3315.000000                3333.000000  \n",
              "mean            0.605545                3.112385                   4.479448  \n",
              "std             0.196985                2.260809                   2.461214  \n",
              "min             0.000000                0.216667                   0.000000  \n",
              "25%             0.469688                1.685714                   3.000000  \n",
              "50%             0.596141                2.460000                   4.000000  \n",
              "75%             0.732895                3.800000                   6.000000  \n",
              "max             1.561058               18.200000                  20.000000  "
            ],
            "text/html": [
              "\n",
              "  <div id=\"df-3c8d1a66-7610-401d-95bc-4ee3c9e85ad5\" class=\"colab-df-container\">\n",
              "    <div>\n",
              "<style scoped>\n",
              "    .dataframe tbody tr th:only-of-type {\n",
              "        vertical-align: middle;\n",
              "    }\n",
              "\n",
              "    .dataframe tbody tr th {\n",
              "        vertical-align: top;\n",
              "    }\n",
              "\n",
              "    .dataframe thead th {\n",
              "        text-align: right;\n",
              "    }\n",
              "</style>\n",
              "<table border=\"1\" class=\"dataframe\">\n",
              "  <thead>\n",
              "    <tr style=\"text-align: right;\">\n",
              "      <th></th>\n",
              "      <th>Intl_Plan</th>\n",
              "      <th>VMail_Plan</th>\n",
              "      <th>Day_Mins</th>\n",
              "      <th>Day_Calls</th>\n",
              "      <th>Day_Charge</th>\n",
              "      <th>Eve_Calls</th>\n",
              "      <th>Eve_Charge</th>\n",
              "      <th>Night_Calls</th>\n",
              "      <th>Night_Charge</th>\n",
              "      <th>Intl_Mins</th>\n",
              "      <th>Intl_Calls</th>\n",
              "      <th>Churn</th>\n",
              "      <th>Total_Calls</th>\n",
              "      <th>Total_Charges</th>\n",
              "      <th>Avg_Call_Duration</th>\n",
              "      <th>Avg_Intl_Call_Duration</th>\n",
              "      <th>Total_International_Calls</th>\n",
              "    </tr>\n",
              "  </thead>\n",
              "  <tbody>\n",
              "    <tr>\n",
              "      <th>count</th>\n",
              "      <td>3333.000000</td>\n",
              "      <td>3333.000000</td>\n",
              "      <td>3333.000000</td>\n",
              "      <td>3333.000000</td>\n",
              "      <td>3333.000000</td>\n",
              "      <td>3333.000000</td>\n",
              "      <td>3333.000000</td>\n",
              "      <td>3333.000000</td>\n",
              "      <td>3333.000000</td>\n",
              "      <td>3333.000000</td>\n",
              "      <td>3333.000000</td>\n",
              "      <td>3333.000000</td>\n",
              "      <td>3333.000000</td>\n",
              "      <td>3333.000000</td>\n",
              "      <td>3333.000000</td>\n",
              "      <td>3315.000000</td>\n",
              "      <td>3333.000000</td>\n",
              "    </tr>\n",
              "    <tr>\n",
              "      <th>mean</th>\n",
              "      <td>0.096910</td>\n",
              "      <td>0.276628</td>\n",
              "      <td>179.775098</td>\n",
              "      <td>100.435644</td>\n",
              "      <td>30.562307</td>\n",
              "      <td>100.114311</td>\n",
              "      <td>17.083540</td>\n",
              "      <td>100.107711</td>\n",
              "      <td>9.039325</td>\n",
              "      <td>10.237294</td>\n",
              "      <td>4.479448</td>\n",
              "      <td>0.144914</td>\n",
              "      <td>300.657666</td>\n",
              "      <td>56.685173</td>\n",
              "      <td>0.605545</td>\n",
              "      <td>3.112385</td>\n",
              "      <td>4.479448</td>\n",
              "    </tr>\n",
              "    <tr>\n",
              "      <th>std</th>\n",
              "      <td>0.295879</td>\n",
              "      <td>0.447398</td>\n",
              "      <td>54.467389</td>\n",
              "      <td>20.069084</td>\n",
              "      <td>9.259435</td>\n",
              "      <td>19.922625</td>\n",
              "      <td>4.310668</td>\n",
              "      <td>19.568609</td>\n",
              "      <td>2.275873</td>\n",
              "      <td>2.791840</td>\n",
              "      <td>2.461214</td>\n",
              "      <td>0.352067</td>\n",
              "      <td>34.328232</td>\n",
              "      <td>10.487816</td>\n",
              "      <td>0.196985</td>\n",
              "      <td>2.260809</td>\n",
              "      <td>2.461214</td>\n",
              "    </tr>\n",
              "    <tr>\n",
              "      <th>min</th>\n",
              "      <td>0.000000</td>\n",
              "      <td>0.000000</td>\n",
              "      <td>0.000000</td>\n",
              "      <td>0.000000</td>\n",
              "      <td>0.000000</td>\n",
              "      <td>0.000000</td>\n",
              "      <td>0.000000</td>\n",
              "      <td>33.000000</td>\n",
              "      <td>1.040000</td>\n",
              "      <td>0.000000</td>\n",
              "      <td>0.000000</td>\n",
              "      <td>0.000000</td>\n",
              "      <td>188.000000</td>\n",
              "      <td>19.980000</td>\n",
              "      <td>0.000000</td>\n",
              "      <td>0.216667</td>\n",
              "      <td>0.000000</td>\n",
              "    </tr>\n",
              "    <tr>\n",
              "      <th>25%</th>\n",
              "      <td>0.000000</td>\n",
              "      <td>0.000000</td>\n",
              "      <td>143.700000</td>\n",
              "      <td>87.000000</td>\n",
              "      <td>24.430000</td>\n",
              "      <td>87.000000</td>\n",
              "      <td>14.160000</td>\n",
              "      <td>87.000000</td>\n",
              "      <td>7.520000</td>\n",
              "      <td>8.500000</td>\n",
              "      <td>3.000000</td>\n",
              "      <td>0.000000</td>\n",
              "      <td>278.000000</td>\n",
              "      <td>49.590000</td>\n",
              "      <td>0.469688</td>\n",
              "      <td>1.685714</td>\n",
              "      <td>3.000000</td>\n",
              "    </tr>\n",
              "    <tr>\n",
              "      <th>50%</th>\n",
              "      <td>0.000000</td>\n",
              "      <td>0.000000</td>\n",
              "      <td>179.400000</td>\n",
              "      <td>101.000000</td>\n",
              "      <td>30.500000</td>\n",
              "      <td>100.000000</td>\n",
              "      <td>17.120000</td>\n",
              "      <td>100.000000</td>\n",
              "      <td>9.050000</td>\n",
              "      <td>10.300000</td>\n",
              "      <td>4.000000</td>\n",
              "      <td>0.000000</td>\n",
              "      <td>301.000000</td>\n",
              "      <td>56.630000</td>\n",
              "      <td>0.596141</td>\n",
              "      <td>2.460000</td>\n",
              "      <td>4.000000</td>\n",
              "    </tr>\n",
              "    <tr>\n",
              "      <th>75%</th>\n",
              "      <td>0.000000</td>\n",
              "      <td>1.000000</td>\n",
              "      <td>216.400000</td>\n",
              "      <td>114.000000</td>\n",
              "      <td>36.790000</td>\n",
              "      <td>114.000000</td>\n",
              "      <td>20.000000</td>\n",
              "      <td>113.000000</td>\n",
              "      <td>10.590000</td>\n",
              "      <td>12.100000</td>\n",
              "      <td>6.000000</td>\n",
              "      <td>0.000000</td>\n",
              "      <td>324.000000</td>\n",
              "      <td>63.650000</td>\n",
              "      <td>0.732895</td>\n",
              "      <td>3.800000</td>\n",
              "      <td>6.000000</td>\n",
              "    </tr>\n",
              "    <tr>\n",
              "      <th>max</th>\n",
              "      <td>1.000000</td>\n",
              "      <td>1.000000</td>\n",
              "      <td>350.800000</td>\n",
              "      <td>165.000000</td>\n",
              "      <td>59.640000</td>\n",
              "      <td>170.000000</td>\n",
              "      <td>30.910000</td>\n",
              "      <td>175.000000</td>\n",
              "      <td>17.770000</td>\n",
              "      <td>20.000000</td>\n",
              "      <td>20.000000</td>\n",
              "      <td>1.000000</td>\n",
              "      <td>410.000000</td>\n",
              "      <td>92.560000</td>\n",
              "      <td>1.561058</td>\n",
              "      <td>18.200000</td>\n",
              "      <td>20.000000</td>\n",
              "    </tr>\n",
              "  </tbody>\n",
              "</table>\n",
              "</div>\n",
              "    <div class=\"colab-df-buttons\">\n",
              "\n",
              "  <div class=\"colab-df-container\">\n",
              "    <button class=\"colab-df-convert\" onclick=\"convertToInteractive('df-3c8d1a66-7610-401d-95bc-4ee3c9e85ad5')\"\n",
              "            title=\"Convert this dataframe to an interactive table.\"\n",
              "            style=\"display:none;\">\n",
              "\n",
              "  <svg xmlns=\"http://www.w3.org/2000/svg\" height=\"24px\" viewBox=\"0 -960 960 960\">\n",
              "    <path d=\"M120-120v-720h720v720H120Zm60-500h600v-160H180v160Zm220 220h160v-160H400v160Zm0 220h160v-160H400v160ZM180-400h160v-160H180v160Zm440 0h160v-160H620v160ZM180-180h160v-160H180v160Zm440 0h160v-160H620v160Z\"/>\n",
              "  </svg>\n",
              "    </button>\n",
              "\n",
              "  <style>\n",
              "    .colab-df-container {\n",
              "      display:flex;\n",
              "      gap: 12px;\n",
              "    }\n",
              "\n",
              "    .colab-df-convert {\n",
              "      background-color: #E8F0FE;\n",
              "      border: none;\n",
              "      border-radius: 50%;\n",
              "      cursor: pointer;\n",
              "      display: none;\n",
              "      fill: #1967D2;\n",
              "      height: 32px;\n",
              "      padding: 0 0 0 0;\n",
              "      width: 32px;\n",
              "    }\n",
              "\n",
              "    .colab-df-convert:hover {\n",
              "      background-color: #E2EBFA;\n",
              "      box-shadow: 0px 1px 2px rgba(60, 64, 67, 0.3), 0px 1px 3px 1px rgba(60, 64, 67, 0.15);\n",
              "      fill: #174EA6;\n",
              "    }\n",
              "\n",
              "    .colab-df-buttons div {\n",
              "      margin-bottom: 4px;\n",
              "    }\n",
              "\n",
              "    [theme=dark] .colab-df-convert {\n",
              "      background-color: #3B4455;\n",
              "      fill: #D2E3FC;\n",
              "    }\n",
              "\n",
              "    [theme=dark] .colab-df-convert:hover {\n",
              "      background-color: #434B5C;\n",
              "      box-shadow: 0px 1px 3px 1px rgba(0, 0, 0, 0.15);\n",
              "      filter: drop-shadow(0px 1px 2px rgba(0, 0, 0, 0.3));\n",
              "      fill: #FFFFFF;\n",
              "    }\n",
              "  </style>\n",
              "\n",
              "    <script>\n",
              "      const buttonEl =\n",
              "        document.querySelector('#df-3c8d1a66-7610-401d-95bc-4ee3c9e85ad5 button.colab-df-convert');\n",
              "      buttonEl.style.display =\n",
              "        google.colab.kernel.accessAllowed ? 'block' : 'none';\n",
              "\n",
              "      async function convertToInteractive(key) {\n",
              "        const element = document.querySelector('#df-3c8d1a66-7610-401d-95bc-4ee3c9e85ad5');\n",
              "        const dataTable =\n",
              "          await google.colab.kernel.invokeFunction('convertToInteractive',\n",
              "                                                    [key], {});\n",
              "        if (!dataTable) return;\n",
              "\n",
              "        const docLinkHtml = 'Like what you see? Visit the ' +\n",
              "          '<a target=\"_blank\" href=https://colab.research.google.com/notebooks/data_table.ipynb>data table notebook</a>'\n",
              "          + ' to learn more about interactive tables.';\n",
              "        element.innerHTML = '';\n",
              "        dataTable['output_type'] = 'display_data';\n",
              "        await google.colab.output.renderOutput(dataTable, element);\n",
              "        const docLink = document.createElement('div');\n",
              "        docLink.innerHTML = docLinkHtml;\n",
              "        element.appendChild(docLink);\n",
              "      }\n",
              "    </script>\n",
              "  </div>\n",
              "\n",
              "\n",
              "<div id=\"df-0b92d2a3-21f4-4632-bcf1-5528937d4379\">\n",
              "  <button class=\"colab-df-quickchart\" onclick=\"quickchart('df-0b92d2a3-21f4-4632-bcf1-5528937d4379')\"\n",
              "            title=\"Suggest charts\"\n",
              "            style=\"display:none;\">\n",
              "\n",
              "<svg xmlns=\"http://www.w3.org/2000/svg\" height=\"24px\"viewBox=\"0 0 24 24\"\n",
              "     width=\"24px\">\n",
              "    <g>\n",
              "        <path d=\"M19 3H5c-1.1 0-2 .9-2 2v14c0 1.1.9 2 2 2h14c1.1 0 2-.9 2-2V5c0-1.1-.9-2-2-2zM9 17H7v-7h2v7zm4 0h-2V7h2v10zm4 0h-2v-4h2v4z\"/>\n",
              "    </g>\n",
              "</svg>\n",
              "  </button>\n",
              "\n",
              "<style>\n",
              "  .colab-df-quickchart {\n",
              "      --bg-color: #E8F0FE;\n",
              "      --fill-color: #1967D2;\n",
              "      --hover-bg-color: #E2EBFA;\n",
              "      --hover-fill-color: #174EA6;\n",
              "      --disabled-fill-color: #AAA;\n",
              "      --disabled-bg-color: #DDD;\n",
              "  }\n",
              "\n",
              "  [theme=dark] .colab-df-quickchart {\n",
              "      --bg-color: #3B4455;\n",
              "      --fill-color: #D2E3FC;\n",
              "      --hover-bg-color: #434B5C;\n",
              "      --hover-fill-color: #FFFFFF;\n",
              "      --disabled-bg-color: #3B4455;\n",
              "      --disabled-fill-color: #666;\n",
              "  }\n",
              "\n",
              "  .colab-df-quickchart {\n",
              "    background-color: var(--bg-color);\n",
              "    border: none;\n",
              "    border-radius: 50%;\n",
              "    cursor: pointer;\n",
              "    display: none;\n",
              "    fill: var(--fill-color);\n",
              "    height: 32px;\n",
              "    padding: 0;\n",
              "    width: 32px;\n",
              "  }\n",
              "\n",
              "  .colab-df-quickchart:hover {\n",
              "    background-color: var(--hover-bg-color);\n",
              "    box-shadow: 0 1px 2px rgba(60, 64, 67, 0.3), 0 1px 3px 1px rgba(60, 64, 67, 0.15);\n",
              "    fill: var(--button-hover-fill-color);\n",
              "  }\n",
              "\n",
              "  .colab-df-quickchart-complete:disabled,\n",
              "  .colab-df-quickchart-complete:disabled:hover {\n",
              "    background-color: var(--disabled-bg-color);\n",
              "    fill: var(--disabled-fill-color);\n",
              "    box-shadow: none;\n",
              "  }\n",
              "\n",
              "  .colab-df-spinner {\n",
              "    border: 2px solid var(--fill-color);\n",
              "    border-color: transparent;\n",
              "    border-bottom-color: var(--fill-color);\n",
              "    animation:\n",
              "      spin 1s steps(1) infinite;\n",
              "  }\n",
              "\n",
              "  @keyframes spin {\n",
              "    0% {\n",
              "      border-color: transparent;\n",
              "      border-bottom-color: var(--fill-color);\n",
              "      border-left-color: var(--fill-color);\n",
              "    }\n",
              "    20% {\n",
              "      border-color: transparent;\n",
              "      border-left-color: var(--fill-color);\n",
              "      border-top-color: var(--fill-color);\n",
              "    }\n",
              "    30% {\n",
              "      border-color: transparent;\n",
              "      border-left-color: var(--fill-color);\n",
              "      border-top-color: var(--fill-color);\n",
              "      border-right-color: var(--fill-color);\n",
              "    }\n",
              "    40% {\n",
              "      border-color: transparent;\n",
              "      border-right-color: var(--fill-color);\n",
              "      border-top-color: var(--fill-color);\n",
              "    }\n",
              "    60% {\n",
              "      border-color: transparent;\n",
              "      border-right-color: var(--fill-color);\n",
              "    }\n",
              "    80% {\n",
              "      border-color: transparent;\n",
              "      border-right-color: var(--fill-color);\n",
              "      border-bottom-color: var(--fill-color);\n",
              "    }\n",
              "    90% {\n",
              "      border-color: transparent;\n",
              "      border-bottom-color: var(--fill-color);\n",
              "    }\n",
              "  }\n",
              "</style>\n",
              "\n",
              "  <script>\n",
              "    async function quickchart(key) {\n",
              "      const quickchartButtonEl =\n",
              "        document.querySelector('#' + key + ' button');\n",
              "      quickchartButtonEl.disabled = true;  // To prevent multiple clicks.\n",
              "      quickchartButtonEl.classList.add('colab-df-spinner');\n",
              "      try {\n",
              "        const charts = await google.colab.kernel.invokeFunction(\n",
              "            'suggestCharts', [key], {});\n",
              "      } catch (error) {\n",
              "        console.error('Error during call to suggestCharts:', error);\n",
              "      }\n",
              "      quickchartButtonEl.classList.remove('colab-df-spinner');\n",
              "      quickchartButtonEl.classList.add('colab-df-quickchart-complete');\n",
              "    }\n",
              "    (() => {\n",
              "      let quickchartButtonEl =\n",
              "        document.querySelector('#df-0b92d2a3-21f4-4632-bcf1-5528937d4379 button');\n",
              "      quickchartButtonEl.style.display =\n",
              "        google.colab.kernel.accessAllowed ? 'block' : 'none';\n",
              "    })();\n",
              "  </script>\n",
              "</div>\n",
              "\n",
              "    </div>\n",
              "  </div>\n"
            ]
          },
          "metadata": {},
          "execution_count": 26
        }
      ],
      "source": [
        "# Generate a statistical summary of the numerical columns in the 'data' DataFrame\n",
        "data.describe()"
      ]
    },
    {
      "cell_type": "code",
      "execution_count": 27,
      "metadata": {
        "id": "9_WrbR_T6em2"
      },
      "outputs": [],
      "source": [
        "# Set the default style and context for Seaborn plots and figures\n",
        "sns.set()"
      ]
    },
    {
      "cell_type": "code",
      "execution_count": 28,
      "metadata": {
        "colab": {
          "base_uri": "https://localhost:8080/"
        },
        "id": "fhIk8h636fZW",
        "outputId": "f5eb629a-5b72-4eb1-9115-61ee7a0a5a40"
      },
      "outputs": [
        {
          "output_type": "stream",
          "name": "stdout",
          "text": [
            "                 len    sum      mean ix\n",
            "CustServ_Calls                          \n",
            "0                697   92.0  0.131994  0\n",
            "1               1181  122.0  0.103302  1\n",
            "2                759   87.0  0.114625  2\n",
            "3                429   44.0  0.102564  3\n",
            "4                166   76.0  0.457831  4\n",
            "5                 66   40.0  0.606061  5\n",
            "6                 22   14.0  0.636364  6\n",
            "7                  9    5.0  0.555556  7\n",
            "8                  2    1.0  0.500000  8\n",
            "9                  2    2.0  1.000000  9\n"
          ]
        }
      ],
      "source": [
        "# Create a pivot table using Pandas to analyze the 'Churn' column based on 'CustServ_Calls' values\n",
        "\n",
        "# Create a pivot table 'df2' with values from the 'Churn' column, indexed by 'CustServ_Calls'\n",
        "# Calculate the length of each group, the sum of 'Churn' values, and the mean of 'Churn' values in each group\n",
        "df2 = pd.pivot_table(data, values='Churn', index=['CustServ_Calls'], aggfunc=[len, np.sum, np.mean])\n",
        "\n",
        "# Add a new column 'ix' to 'df2' containing the index values\n",
        "df2['ix'] = df2.index.values\n",
        "\n",
        "# Drop the top-level column names to have a cleaner DataFrame\n",
        "df2.columns = df2.columns.droplevel()\n",
        "\n",
        "print(df2)\n"
      ]
    },
    {
      "cell_type": "code",
      "execution_count": 29,
      "metadata": {
        "colab": {
          "base_uri": "https://localhost:8080/",
          "height": 458
        },
        "id": "iNZa70bu6hnd",
        "outputId": "af55abba-c563-4363-c599-d5af09923231"
      },
      "outputs": [
        {
          "output_type": "display_data",
          "data": {
            "text/plain": [
              "<Figure size 640x480 with 1 Axes>"
            ],
            "image/png": "[encoded data removed]"
          },
          "metadata": {}
        }
      ],
      "source": [
        "# Use Seaborn's barplot to display the 'ix' column (x-axis) against the 'mean' column (y-axis) from the 'df2' DataFrame\n",
        "# Customize the color palette to \"Blues_d\" and adjust saturation for aesthetics\n",
        "sns.barplot(x=\"ix\", y=\"mean\", data=df2, palette=\"Blues_d\", saturation=0.5)\n",
        "\n",
        "plt.show()"
      ]
    },
    {
      "cell_type": "code",
      "execution_count": 30,
      "metadata": {
        "id": "EB2ci9yt6jub"
      },
      "outputs": [],
      "source": [
        "# columns to drop from 'data'\n",
        "to_drop = ['State', 'Area_Code', 'Phone', 'Churn']\n",
        "# Create a new DataFrame 'churn_feat_space' by removing the specified columns using the 'drop' method\n",
        "# The 'axis=1' argument indicates that columns are being dropped\n",
        "churn_feat_space = data.drop(to_drop, axis=1)"
      ]
    },
    {
      "cell_type": "code",
      "execution_count": 31,
      "metadata": {
        "colab": {
          "base_uri": "https://localhost:8080/"
        },
        "id": "TMVPMVPvTmaZ",
        "outputId": "ec81ba79-a04d-44b4-d2dc-f81fa0e6be9b"
      },
      "outputs": [
        {
          "output_type": "stream",
          "name": "stderr",
          "text": [
            "<ipython-input-31-7f36e7b44118>:7: DeprecationWarning: `np.float` is a deprecated alias for the builtin `float`. To silence this warning, use `float` by itself. Doing this will not modify any behavior and is safe. If you specifically wanted the numpy scalar type, use `np.float64` here.\n",
            "Deprecated in NumPy 1.20; for more details and guidance: https://numpy.org/devdocs/release/1.20.0-notes.html#deprecations\n",
            "  X = churn_feat_space.values.astype(np.float)\n"
          ]
        },
        {
          "output_type": "execute_result",
          "data": {
            "text/plain": [
              "0.0    2850\n",
              "1.0     483\n",
              "Name: Churn, dtype: int64"
            ]
          },
          "metadata": {},
          "execution_count": 31
        }
      ],
      "source": [
        "# Pull out features for future use\n",
        "\n",
        "# Get the column names (features) from the 'churn_feat_space' DataFrame\n",
        "features = churn_feat_space.columns\n",
        "\n",
        "# Create a feature matrix 'X' by converting the values in 'churn_feat_space' to float data type\n",
        "X = churn_feat_space.values.astype(np.float)\n",
        "\n",
        "# Extract the target variable 'Churn' from the original 'data' DataFrame\n",
        "churn_result = data['Churn']\n",
        "\n",
        "# Count and display the distribution of the 'Churn' values (target variable)\n",
        "data['Churn'].value_counts()"
      ]
    },
    {
      "cell_type": "code",
      "execution_count": 32,
      "metadata": {
        "colab": {
          "base_uri": "https://localhost:8080/"
        },
        "id": "7-xZtRn2lhqe",
        "outputId": "c9657a72-8d2e-4212-b17d-2df0ac21a081"
      },
      "outputs": [
        {
          "output_type": "stream",
          "name": "stdout",
          "text": [
            "Index(['Account_Length', 'Intl_Plan', 'VMail_Plan', 'VMail_Message',\n",
            "       'Day_Mins', 'Day_Calls', 'Day_Charge', 'Eve_Mins', 'Eve_Calls',\n",
            "       'Eve_Charge', 'Night_Mins', 'Night_Calls', 'Night_Charge', 'Intl_Mins',\n",
            "       'Intl_Calls', 'Intl_Charge', 'CustServ_Calls', 'Total_Calls',\n",
            "       'Total_Charges', 'Avg_Call_Duration', 'Avg_Intl_Call_Duration',\n",
            "       'Total_International_Calls'],\n",
            "      dtype='object', name=0)\n"
          ]
        }
      ],
      "source": [
        "print(churn_feat_space.columns)"
      ]
    },
    {
      "cell_type": "code",
      "execution_count": 33,
      "metadata": {
        "colab": {
          "base_uri": "https://localhost:8080/"
        },
        "id": "EcivkZ3l6mwe",
        "outputId": "98b2091d-9be7-48cb-cde1-6e1c7fee95cf"
      },
      "outputs": [
        {
          "output_type": "stream",
          "name": "stdout",
          "text": [
            "Feature space holds 3333 observations and 22 features\n",
            "Unique target labels: [0 1]\n"
          ]
        }
      ],
      "source": [
        "y = np.where(churn_result == 1,1,0)\n",
        "\n",
        "\n",
        "scaler = StandardScaler()\n",
        "X = scaler.fit_transform(X)\n",
        "\n",
        "print(\"Feature space holds %d observations and %d features\" % X.shape)\n",
        "print(\"Unique target labels:\", np.unique(y))"
      ]
    },
    {
      "cell_type": "code",
      "execution_count": 34,
      "metadata": {
        "id": "a8P-d9Ro6rUs"
      },
      "outputs": [],
      "source": [
        "def run_cv(X, y, clf_class, **kwargs):\n",
        "    y_pred = y.copy()\n",
        "    kf = KFold(n_splits=5, shuffle=True)\n",
        "\n",
        "    # Iterate through folds\n",
        "    for train_index, test_index in kf.split(X, y):\n",
        "        X_train, X_test = X[train_index], X[test_index]\n",
        "        y_train = y[train_index]\n",
        "\n",
        "        # Initialize a classifier with key word arguments\n",
        "        clf = clf_class(**kwargs)\n",
        "        clf.fit(X_train,y_train)\n",
        "        y_pred[test_index] = clf.predict(X_test)\n",
        "    return y_pred,clf"
      ]
    },
    {
      "cell_type": "code",
      "execution_count": 35,
      "metadata": {
        "id": "Co6mGbuYFUac"
      },
      "outputs": [],
      "source": [
        "from sklearn.impute import SimpleImputer\n",
        "\n",
        "# Instantiate the imputer with a strategy (e.g., mean, median, or most frequent)\n",
        "imputer = SimpleImputer(strategy='mean')\n",
        "\n",
        "# Fit the imputer to your data and transform it\n",
        "X_imputed = imputer.fit_transform(X)\n",
        "\n",
        "# Now, you can train your RandomForestClassifier on the imputed data\n",
        "rf, RF = run_cv(X_imputed, y, RandomForestClassifier)\n"
      ]
    },
    {
      "cell_type": "code",
      "execution_count": 36,
      "metadata": {
        "id": "Gcap9ztC6vwG"
      },
      "outputs": [],
      "source": [
        "def accuracy(y_true, y_pred):\n",
        "    # NumPy interprets True and False as 1. and 0.\n",
        "    return np.mean(y_true == y_pred)"
      ]
    },
    {
      "cell_type": "code",
      "execution_count": 37,
      "metadata": {
        "colab": {
          "base_uri": "https://localhost:8080/"
        },
        "id": "jK7kfvpO6zGa",
        "outputId": "2b2010e7-84cc-4b1e-a941-a008b8142bec"
      },
      "outputs": [
        {
          "output_type": "stream",
          "name": "stdout",
          "text": [
            "Random forest: 97.02970297029702%\n"
          ]
        }
      ],
      "source": [
        "print(\"Random forest: {}%\".format(100.0*accuracy(y, rf)))"
      ]
    },
    {
      "cell_type": "code",
      "execution_count": 38,
      "metadata": {
        "colab": {
          "base_uri": "https://localhost:8080/",
          "height": 458
        },
        "id": "CKaY-Kem63-7",
        "outputId": "32115192-fb4b-4ef9-f0a8-50d1a322d1c9"
      },
      "outputs": [
        {
          "output_type": "display_data",
          "data": {
            "text/plain": [
              "<Figure size 640x480 with 2 Axes>"
            ],
            "image/png": "[encoded data removed]"
          },
          "metadata": {}
        }
      ],
      "source": [
        "sns.heatmap(confusion_matrix(y,rf,labels=[0,1]), annot=True, fmt=\"d\", linewidths=.5)\n",
        "plt.ylabel('True label')\n",
        "plt.xlabel('Predicted label')\n",
        "pass"
      ]
    },
    {
      "cell_type": "code",
      "execution_count": 39,
      "metadata": {
        "colab": {
          "base_uri": "https://localhost:8080/"
        },
        "id": "MuOAV4oa66SC",
        "outputId": "a88fadeb-1c4e-4b67-f486-7289a5063516"
      },
      "outputs": [
        {
          "output_type": "execute_result",
          "data": {
            "text/plain": [
              "array([[0.94, 0.06],\n",
              "       [0.91, 0.09],\n",
              "       [1.  , 0.  ],\n",
              "       [0.72, 0.28],\n",
              "       [1.  , 0.  ],\n",
              "       [0.98, 0.02],\n",
              "       [0.94, 0.06],\n",
              "       [0.97, 0.03],\n",
              "       [0.91, 0.09],\n",
              "       [0.89, 0.11]])"
            ]
          },
          "metadata": {},
          "execution_count": 39
        }
      ],
      "source": [
        "RF.predict_proba(X[0:10])"
      ]
    },
    {
      "cell_type": "code",
      "execution_count": 40,
      "metadata": {
        "colab": {
          "base_uri": "https://localhost:8080/"
        },
        "id": "J-MqWnNY67La",
        "outputId": "f40b0053-9759-4c0e-d163-73a146173eec"
      },
      "outputs": [
        {
          "output_type": "stream",
          "name": "stdout",
          "text": [
            "Requirement already satisfied: xgboost in /usr/local/lib/python3.10/dist-packages (2.0.3)\n",
            "Requirement already satisfied: numpy in /usr/local/lib/python3.10/dist-packages (from xgboost) (1.23.5)\n",
            "Requirement already satisfied: scipy in /usr/local/lib/python3.10/dist-packages (from xgboost) (1.11.4)\n"
          ]
        }
      ],
      "source": [
        "pip install xgboost"
      ]
    },
    {
      "cell_type": "code",
      "execution_count": 41,
      "metadata": {
        "id": "kAV_rl5H7GSR"
      },
      "outputs": [],
      "source": [
        "import xgboost as xgb\n",
        "from xgboost import XGBClassifier"
      ]
    },
    {
      "cell_type": "code",
      "execution_count": 42,
      "metadata": {
        "id": "1YPIanF67BdH"
      },
      "outputs": [],
      "source": [
        "\n",
        "# split data into train and test sets\n",
        "seed = 7\n",
        "test_size = 0.33\n",
        "X_train, X_test, y_train, y_test = train_test_split(X, y, test_size=test_size, random_state=seed)"
      ]
    },
    {
      "cell_type": "code",
      "execution_count": 43,
      "metadata": {
        "colab": {
          "base_uri": "https://localhost:8080/",
          "height": 248
        },
        "id": "jf3pMc1z7CVs",
        "outputId": "3c04dd3e-9813-4445-c1f2-839efdc2e84d"
      },
      "outputs": [
        {
          "output_type": "execute_result",
          "data": {
            "text/plain": [
              "XGBClassifier(base_score=None, booster=None, callbacks=None,\n",
              "              colsample_bylevel=None, colsample_bynode=None,\n",
              "              colsample_bytree=None, device=None, early_stopping_rounds=None,\n",
              "              enable_categorical=False, eval_metric=None, feature_types=None,\n",
              "              gamma=None, grow_policy=None, importance_type=None,\n",
              "              interaction_constraints=None, learning_rate=None, max_bin=None,\n",
              "              max_cat_threshold=None, max_cat_to_onehot=None,\n",
              "              max_delta_step=None, max_depth=None, max_leaves=None,\n",
              "              min_child_weight=None, missing=nan, monotone_constraints=None,\n",
              "              multi_strategy=None, n_estimators=None, n_jobs=None,\n",
              "              num_parallel_tree=None, random_state=None, ...)"
            ],
            "text/html": [
              "<style>#sk-container-id-1 {color: black;background-color: white;}#sk-container-id-1 pre{padding: 0;}#sk-container-id-1 div.sk-toggleable {background-color: white;}#sk-container-id-1 label.sk-toggleable__label {cursor: pointer;display: block;width: 100%;margin-bottom: 0;padding: 0.3em;box-sizing: border-box;text-align: center;}#sk-container-id-1 label.sk-toggleable__label-arrow:before {content: \"▸\";float: left;margin-right: 0.25em;color: #696969;}#sk-container-id-1 label.sk-toggleable__label-arrow:hover:before {color: black;}#sk-container-id-1 div.sk-estimator:hover label.sk-toggleable__label-arrow:before {color: black;}#sk-container-id-1 div.sk-toggleable__content {max-height: 0;max-width: 0;overflow: hidden;text-align: left;background-color: #f0f8ff;}#sk-container-id-1 div.sk-toggleable__content pre {margin: 0.2em;color: black;border-radius: 0.25em;background-color: #f0f8ff;}#sk-container-id-1 input.sk-toggleable__control:checked~div.sk-toggleable__content {max-height: 200px;max-width: 100%;overflow: auto;}#sk-container-id-1 input.sk-toggleable__control:checked~label.sk-toggleable__label-arrow:before {content: \"▾\";}#sk-container-id-1 div.sk-estimator input.sk-toggleable__control:checked~label.sk-toggleable__label {background-color: #d4ebff;}#sk-container-id-1 div.sk-label input.sk-toggleable__control:checked~label.sk-toggleable__label {background-color: #d4ebff;}#sk-container-id-1 input.sk-hidden--visually {border: 0;clip: rect(1px 1px 1px 1px);clip: rect(1px, 1px, 1px, 1px);height: 1px;margin: -1px;overflow: hidden;padding: 0;position: absolute;width: 1px;}#sk-container-id-1 div.sk-estimator {font-family: monospace;background-color: #f0f8ff;border: 1px dotted black;border-radius: 0.25em;box-sizing: border-box;margin-bottom: 0.5em;}#sk-container-id-1 div.sk-estimator:hover {background-color: #d4ebff;}#sk-container-id-1 div.sk-parallel-item::after {content: \"\";width: 100%;border-bottom: 1px solid gray;flex-grow: 1;}#sk-container-id-1 div.sk-label:hover label.sk-toggleable__label {background-color: #d4ebff;}#sk-container-id-1 div.sk-serial::before {content: \"\";position: absolute;border-left: 1px solid gray;box-sizing: border-box;top: 0;bottom: 0;left: 50%;z-index: 0;}#sk-container-id-1 div.sk-serial {display: flex;flex-direction: column;align-items: center;background-color: white;padding-right: 0.2em;padding-left: 0.2em;position: relative;}#sk-container-id-1 div.sk-item {position: relative;z-index: 1;}#sk-container-id-1 div.sk-parallel {display: flex;align-items: stretch;justify-content: center;background-color: white;position: relative;}#sk-container-id-1 div.sk-item::before, #sk-container-id-1 div.sk-parallel-item::before {content: \"\";position: absolute;border-left: 1px solid gray;box-sizing: border-box;top: 0;bottom: 0;left: 50%;z-index: -1;}#sk-container-id-1 div.sk-parallel-item {display: flex;flex-direction: column;z-index: 1;position: relative;background-color: white;}#sk-container-id-1 div.sk-parallel-item:first-child::after {align-self: flex-end;width: 50%;}#sk-container-id-1 div.sk-parallel-item:last-child::after {align-self: flex-start;width: 50%;}#sk-container-id-1 div.sk-parallel-item:only-child::after {width: 0;}#sk-container-id-1 div.sk-dashed-wrapped {border: 1px dashed gray;margin: 0 0.4em 0.5em 0.4em;box-sizing: border-box;padding-bottom: 0.4em;background-color: white;}#sk-container-id-1 div.sk-label label {font-family: monospace;font-weight: bold;display: inline-block;line-height: 1.2em;}#sk-container-id-1 div.sk-label-container {text-align: center;}#sk-container-id-1 div.sk-container {/* jupyter's `normalize.less` sets `[hidden] { display: none; }` but bootstrap.min.css set `[hidden] { display: none !important; }` so we also need the `!important` here to be able to override the default hidden behavior on the sphinx rendered scikit-learn.org. See: https://github.com/scikit-learn/scikit-learn/issues/21755 */display: inline-block !important;position: relative;}#sk-container-id-1 div.sk-text-repr-fallback {display: none;}</style><div id=\"sk-container-id-1\" class=\"sk-top-container\"><div class=\"sk-text-repr-fallback\"><pre>XGBClassifier(base_score=None, booster=None, callbacks=None,\n",
              "              colsample_bylevel=None, colsample_bynode=None,\n",
              "              colsample_bytree=None, device=None, early_stopping_rounds=None,\n",
              "              enable_categorical=False, eval_metric=None, feature_types=None,\n",
              "              gamma=None, grow_policy=None, importance_type=None,\n",
              "              interaction_constraints=None, learning_rate=None, max_bin=None,\n",
              "              max_cat_threshold=None, max_cat_to_onehot=None,\n",
              "              max_delta_step=None, max_depth=None, max_leaves=None,\n",
              "              min_child_weight=None, missing=nan, monotone_constraints=None,\n",
              "              multi_strategy=None, n_estimators=None, n_jobs=None,\n",
              "              num_parallel_tree=None, random_state=None, ...)</pre><b>In a Jupyter environment, please rerun this cell to show the HTML representation or trust the notebook. <br />On GitHub, the HTML representation is unable to render, please try loading this page with nbviewer.org.</b></div><div class=\"sk-container\" hidden><div class=\"sk-item\"><div class=\"sk-estimator sk-toggleable\"><input class=\"sk-toggleable__control sk-hidden--visually\" id=\"sk-estimator-id-1\" type=\"checkbox\" checked><label for=\"sk-estimator-id-1\" class=\"sk-toggleable__label sk-toggleable__label-arrow\">XGBClassifier</label><div class=\"sk-toggleable__content\"><pre>XGBClassifier(base_score=None, booster=None, callbacks=None,\n",
              "              colsample_bylevel=None, colsample_bynode=None,\n",
              "              colsample_bytree=None, device=None, early_stopping_rounds=None,\n",
              "              enable_categorical=False, eval_metric=None, feature_types=None,\n",
              "              gamma=None, grow_policy=None, importance_type=None,\n",
              "              interaction_constraints=None, learning_rate=None, max_bin=None,\n",
              "              max_cat_threshold=None, max_cat_to_onehot=None,\n",
              "              max_delta_step=None, max_depth=None, max_leaves=None,\n",
              "              min_child_weight=None, missing=nan, monotone_constraints=None,\n",
              "              multi_strategy=None, n_estimators=None, n_jobs=None,\n",
              "              num_parallel_tree=None, random_state=None, ...)</pre></div></div></div></div></div>"
            ]
          },
          "metadata": {},
          "execution_count": 43
        }
      ],
      "source": [
        "xgbmodel=xgb.XGBClassifier()\n",
        "xgbmodel"
      ]
    },
    {
      "cell_type": "code",
      "execution_count": 44,
      "metadata": {
        "id": "TojOgE5u7MB6"
      },
      "outputs": [],
      "source": [
        "xgbmodel=xgbmodel.fit(X_train,y_train)"
      ]
    },
    {
      "cell_type": "code",
      "execution_count": 45,
      "metadata": {
        "colab": {
          "base_uri": "https://localhost:8080/"
        },
        "id": "8e-FRy_D7Mxn",
        "outputId": "291af4c2-d2bc-4560-ad7a-529b028a1d5a"
      },
      "outputs": [
        {
          "output_type": "stream",
          "name": "stdout",
          "text": [
            "Training set accuracy : 100.0\n",
            "testing set accuracy : 97.0\n"
          ]
        }
      ],
      "source": [
        "print(\"Training set accuracy :\",xgbmodel.score(X_train,y_train)*100)\n",
        "print(\"testing set accuracy :\",xgbmodel.score(X_test,y_test)*100)"
      ]
    },
    {
      "cell_type": "code",
      "execution_count": 46,
      "metadata": {
        "id": "TPwbGAw77iYV"
      },
      "outputs": [],
      "source": [
        "# Define hyperparameter grid\n",
        "param_grid = {\n",
        "    'n_estimators': [100, 300, 500, 800, 1000],\n",
        "    'learning_rate': [0.01, 0.05, 0.1, 0.2],\n",
        "    'max_depth': [5, 10, 15, 20],\n",
        "    'subsample': [0.6, 0.7, 0.8, 0.9, 1.0],\n",
        "    'colsample_bytree': [0.6, 0.7, 0.8, 0.9, 1.0],\n",
        "    'reg_alpha': [0.001, 0.01, 0.1, 1, 10],\n",
        "    'reg_lambda': [0.001, 0.01, 0.1, 1, 10],\n",
        "    'scale_pos_weight': [1, 1.5, 2, 2.5]\n",
        "}"
      ]
    },
    {
      "cell_type": "code",
      "execution_count": 47,
      "metadata": {
        "id": "sb-Cq6E_9hUz"
      },
      "outputs": [],
      "source": [
        "xgb_model = XGBClassifier(random_state=42)"
      ]
    },
    {
      "cell_type": "code",
      "execution_count": 48,
      "metadata": {
        "id": "zw6RkEwU94YA"
      },
      "outputs": [],
      "source": [
        "# Initialize RandomizedSearchCV\n",
        "random_search = RandomizedSearchCV(\n",
        "    xgb_model, param_distributions=param_grid, n_iter=100,\n",
        "    scoring='accuracy', n_jobs=-1, cv=5, random_state=42\n",
        ")"
      ]
    },
    {
      "cell_type": "code",
      "execution_count": 49,
      "metadata": {
        "colab": {
          "base_uri": "https://localhost:8080/",
          "height": 116
        },
        "id": "VlDr4Fif-FC2",
        "outputId": "8304f85c-fdaf-4ccd-9283-b7ef1bb2d58b"
      },
      "outputs": [
        {
          "output_type": "execute_result",
          "data": {
            "text/plain": [
              "RandomizedSearchCV(cv=5,\n",
              "                   estimator=XGBClassifier(base_score=None, booster=None,\n",
              "                                           callbacks=None,\n",
              "                                           colsample_bylevel=None,\n",
              "                                           colsample_bynode=None,\n",
              "                                           colsample_bytree=None, device=None,\n",
              "                                           early_stopping_rounds=None,\n",
              "                                           enable_categorical=False,\n",
              "                                           eval_metric=None, feature_types=None,\n",
              "                                           gamma=None, grow_policy=None,\n",
              "                                           importance_type=None,\n",
              "                                           interaction_constraints=None,\n",
              "                                           learning_rate...\n",
              "                   n_iter=100, n_jobs=-1,\n",
              "                   param_distributions={'colsample_bytree': [0.6, 0.7, 0.8, 0.9,\n",
              "                                                             1.0],\n",
              "                                        'learning_rate': [0.01, 0.05, 0.1, 0.2],\n",
              "                                        'max_depth': [5, 10, 15, 20],\n",
              "                                        'n_estimators': [100, 300, 500, 800,\n",
              "                                                         1000],\n",
              "                                        'reg_alpha': [0.001, 0.01, 0.1, 1, 10],\n",
              "                                        'reg_lambda': [0.001, 0.01, 0.1, 1, 10],\n",
              "                                        'scale_pos_weight': [1, 1.5, 2, 2.5],\n",
              "                                        'subsample': [0.6, 0.7, 0.8, 0.9, 1.0]},\n",
              "                   random_state=42, scoring='accuracy')"
            ],
            "text/html": [
              "<style>#sk-container-id-2 {color: black;background-color: white;}#sk-container-id-2 pre{padding: 0;}#sk-container-id-2 div.sk-toggleable {background-color: white;}#sk-container-id-2 label.sk-toggleable__label {cursor: pointer;display: block;width: 100%;margin-bottom: 0;padding: 0.3em;box-sizing: border-box;text-align: center;}#sk-container-id-2 label.sk-toggleable__label-arrow:before {content: \"▸\";float: left;margin-right: 0.25em;color: #696969;}#sk-container-id-2 label.sk-toggleable__label-arrow:hover:before {color: black;}#sk-container-id-2 div.sk-estimator:hover label.sk-toggleable__label-arrow:before {color: black;}#sk-container-id-2 div.sk-toggleable__content {max-height: 0;max-width: 0;overflow: hidden;text-align: left;background-color: #f0f8ff;}#sk-container-id-2 div.sk-toggleable__content pre {margin: 0.2em;color: black;border-radius: 0.25em;background-color: #f0f8ff;}#sk-container-id-2 input.sk-toggleable__control:checked~div.sk-toggleable__content {max-height: 200px;max-width: 100%;overflow: auto;}#sk-container-id-2 input.sk-toggleable__control:checked~label.sk-toggleable__label-arrow:before {content: \"▾\";}#sk-container-id-2 div.sk-estimator input.sk-toggleable__control:checked~label.sk-toggleable__label {background-color: #d4ebff;}#sk-container-id-2 div.sk-label input.sk-toggleable__control:checked~label.sk-toggleable__label {background-color: #d4ebff;}#sk-container-id-2 input.sk-hidden--visually {border: 0;clip: rect(1px 1px 1px 1px);clip: rect(1px, 1px, 1px, 1px);height: 1px;margin: -1px;overflow: hidden;padding: 0;position: absolute;width: 1px;}#sk-container-id-2 div.sk-estimator {font-family: monospace;background-color: #f0f8ff;border: 1px dotted black;border-radius: 0.25em;box-sizing: border-box;margin-bottom: 0.5em;}#sk-container-id-2 div.sk-estimator:hover {background-color: #d4ebff;}#sk-container-id-2 div.sk-parallel-item::after {content: \"\";width: 100%;border-bottom: 1px solid gray;flex-grow: 1;}#sk-container-id-2 div.sk-label:hover label.sk-toggleable__label {background-color: #d4ebff;}#sk-container-id-2 div.sk-serial::before {content: \"\";position: absolute;border-left: 1px solid gray;box-sizing: border-box;top: 0;bottom: 0;left: 50%;z-index: 0;}#sk-container-id-2 div.sk-serial {display: flex;flex-direction: column;align-items: center;background-color: white;padding-right: 0.2em;padding-left: 0.2em;position: relative;}#sk-container-id-2 div.sk-item {position: relative;z-index: 1;}#sk-container-id-2 div.sk-parallel {display: flex;align-items: stretch;justify-content: center;background-color: white;position: relative;}#sk-container-id-2 div.sk-item::before, #sk-container-id-2 div.sk-parallel-item::before {content: \"\";position: absolute;border-left: 1px solid gray;box-sizing: border-box;top: 0;bottom: 0;left: 50%;z-index: -1;}#sk-container-id-2 div.sk-parallel-item {display: flex;flex-direction: column;z-index: 1;position: relative;background-color: white;}#sk-container-id-2 div.sk-parallel-item:first-child::after {align-self: flex-end;width: 50%;}#sk-container-id-2 div.sk-parallel-item:last-child::after {align-self: flex-start;width: 50%;}#sk-container-id-2 div.sk-parallel-item:only-child::after {width: 0;}#sk-container-id-2 div.sk-dashed-wrapped {border: 1px dashed gray;margin: 0 0.4em 0.5em 0.4em;box-sizing: border-box;padding-bottom: 0.4em;background-color: white;}#sk-container-id-2 div.sk-label label {font-family: monospace;font-weight: bold;display: inline-block;line-height: 1.2em;}#sk-container-id-2 div.sk-label-container {text-align: center;}#sk-container-id-2 div.sk-container {/* jupyter's `normalize.less` sets `[hidden] { display: none; }` but bootstrap.min.css set `[hidden] { display: none !important; }` so we also need the `!important` here to be able to override the default hidden behavior on the sphinx rendered scikit-learn.org. See: https://github.com/scikit-learn/scikit-learn/issues/21755 */display: inline-block !important;position: relative;}#sk-container-id-2 div.sk-text-repr-fallback {display: none;}</style><div id=\"sk-container-id-2\" class=\"sk-top-container\"><div class=\"sk-text-repr-fallback\"><pre>RandomizedSearchCV(cv=5,\n",
              "                   estimator=XGBClassifier(base_score=None, booster=None,\n",
              "                                           callbacks=None,\n",
              "                                           colsample_bylevel=None,\n",
              "                                           colsample_bynode=None,\n",
              "                                           colsample_bytree=None, device=None,\n",
              "                                           early_stopping_rounds=None,\n",
              "                                           enable_categorical=False,\n",
              "                                           eval_metric=None, feature_types=None,\n",
              "                                           gamma=None, grow_policy=None,\n",
              "                                           importance_type=None,\n",
              "                                           interaction_constraints=None,\n",
              "                                           learning_rate...\n",
              "                   n_iter=100, n_jobs=-1,\n",
              "                   param_distributions={&#x27;colsample_bytree&#x27;: [0.6, 0.7, 0.8, 0.9,\n",
              "                                                             1.0],\n",
              "                                        &#x27;learning_rate&#x27;: [0.01, 0.05, 0.1, 0.2],\n",
              "                                        &#x27;max_depth&#x27;: [5, 10, 15, 20],\n",
              "                                        &#x27;n_estimators&#x27;: [100, 300, 500, 800,\n",
              "                                                         1000],\n",
              "                                        &#x27;reg_alpha&#x27;: [0.001, 0.01, 0.1, 1, 10],\n",
              "                                        &#x27;reg_lambda&#x27;: [0.001, 0.01, 0.1, 1, 10],\n",
              "                                        &#x27;scale_pos_weight&#x27;: [1, 1.5, 2, 2.5],\n",
              "                                        &#x27;subsample&#x27;: [0.6, 0.7, 0.8, 0.9, 1.0]},\n",
              "                   random_state=42, scoring=&#x27;accuracy&#x27;)</pre><b>In a Jupyter environment, please rerun this cell to show the HTML representation or trust the notebook. <br />On GitHub, the HTML representation is unable to render, please try loading this page with nbviewer.org.</b></div><div class=\"sk-container\" hidden><div class=\"sk-item sk-dashed-wrapped\"><div class=\"sk-label-container\"><div class=\"sk-label sk-toggleable\"><input class=\"sk-toggleable__control sk-hidden--visually\" id=\"sk-estimator-id-2\" type=\"checkbox\" ><label for=\"sk-estimator-id-2\" class=\"sk-toggleable__label sk-toggleable__label-arrow\">RandomizedSearchCV</label><div class=\"sk-toggleable__content\"><pre>RandomizedSearchCV(cv=5,\n",
              "                   estimator=XGBClassifier(base_score=None, booster=None,\n",
              "                                           callbacks=None,\n",
              "                                           colsample_bylevel=None,\n",
              "                                           colsample_bynode=None,\n",
              "                                           colsample_bytree=None, device=None,\n",
              "                                           early_stopping_rounds=None,\n",
              "                                           enable_categorical=False,\n",
              "                                           eval_metric=None, feature_types=None,\n",
              "                                           gamma=None, grow_policy=None,\n",
              "                                           importance_type=None,\n",
              "                                           interaction_constraints=None,\n",
              "                                           learning_rate...\n",
              "                   n_iter=100, n_jobs=-1,\n",
              "                   param_distributions={&#x27;colsample_bytree&#x27;: [0.6, 0.7, 0.8, 0.9,\n",
              "                                                             1.0],\n",
              "                                        &#x27;learning_rate&#x27;: [0.01, 0.05, 0.1, 0.2],\n",
              "                                        &#x27;max_depth&#x27;: [5, 10, 15, 20],\n",
              "                                        &#x27;n_estimators&#x27;: [100, 300, 500, 800,\n",
              "                                                         1000],\n",
              "                                        &#x27;reg_alpha&#x27;: [0.001, 0.01, 0.1, 1, 10],\n",
              "                                        &#x27;reg_lambda&#x27;: [0.001, 0.01, 0.1, 1, 10],\n",
              "                                        &#x27;scale_pos_weight&#x27;: [1, 1.5, 2, 2.5],\n",
              "                                        &#x27;subsample&#x27;: [0.6, 0.7, 0.8, 0.9, 1.0]},\n",
              "                   random_state=42, scoring=&#x27;accuracy&#x27;)</pre></div></div></div><div class=\"sk-parallel\"><div class=\"sk-parallel-item\"><div class=\"sk-item\"><div class=\"sk-label-container\"><div class=\"sk-label sk-toggleable\"><input class=\"sk-toggleable__control sk-hidden--visually\" id=\"sk-estimator-id-3\" type=\"checkbox\" ><label for=\"sk-estimator-id-3\" class=\"sk-toggleable__label sk-toggleable__label-arrow\">estimator: XGBClassifier</label><div class=\"sk-toggleable__content\"><pre>XGBClassifier(base_score=None, booster=None, callbacks=None,\n",
              "              colsample_bylevel=None, colsample_bynode=None,\n",
              "              colsample_bytree=None, device=None, early_stopping_rounds=None,\n",
              "              enable_categorical=False, eval_metric=None, feature_types=None,\n",
              "              gamma=None, grow_policy=None, importance_type=None,\n",
              "              interaction_constraints=None, learning_rate=None, max_bin=None,\n",
              "              max_cat_threshold=None, max_cat_to_onehot=None,\n",
              "              max_delta_step=None, max_depth=None, max_leaves=None,\n",
              "              min_child_weight=None, missing=nan, monotone_constraints=None,\n",
              "              multi_strategy=None, n_estimators=None, n_jobs=None,\n",
              "              num_parallel_tree=None, random_state=42, ...)</pre></div></div></div><div class=\"sk-serial\"><div class=\"sk-item\"><div class=\"sk-estimator sk-toggleable\"><input class=\"sk-toggleable__control sk-hidden--visually\" id=\"sk-estimator-id-4\" type=\"checkbox\" ><label for=\"sk-estimator-id-4\" class=\"sk-toggleable__label sk-toggleable__label-arrow\">XGBClassifier</label><div class=\"sk-toggleable__content\"><pre>XGBClassifier(base_score=None, booster=None, callbacks=None,\n",
              "              colsample_bylevel=None, colsample_bynode=None,\n",
              "              colsample_bytree=None, device=None, early_stopping_rounds=None,\n",
              "              enable_categorical=False, eval_metric=None, feature_types=None,\n",
              "              gamma=None, grow_policy=None, importance_type=None,\n",
              "              interaction_constraints=None, learning_rate=None, max_bin=None,\n",
              "              max_cat_threshold=None, max_cat_to_onehot=None,\n",
              "              max_delta_step=None, max_depth=None, max_leaves=None,\n",
              "              min_child_weight=None, missing=nan, monotone_constraints=None,\n",
              "              multi_strategy=None, n_estimators=None, n_jobs=None,\n",
              "              num_parallel_tree=None, random_state=42, ...)</pre></div></div></div></div></div></div></div></div></div></div>"
            ]
          },
          "metadata": {},
          "execution_count": 49
        }
      ],
      "source": [
        "# Fit the RandomizedSearchCV\n",
        "random_search.fit(X_train, y_train)"
      ]
    },
    {
      "cell_type": "code",
      "execution_count": 50,
      "metadata": {
        "id": "4rryM8py-HmE"
      },
      "outputs": [],
      "source": [
        "# Get the best parameters and best accuracy\n",
        "best_params = random_search.best_params_\n",
        "best_accuracy = random_search.best_score_"
      ]
    },
    {
      "cell_type": "code",
      "execution_count": 51,
      "metadata": {
        "colab": {
          "base_uri": "https://localhost:8080/"
        },
        "id": "CAhQTNT9-KYk",
        "outputId": "7dd4125a-8f7d-4800-f901-16f206c3fd8c"
      },
      "outputs": [
        {
          "output_type": "stream",
          "name": "stdout",
          "text": [
            "Best Parameters: {'subsample': 1.0, 'scale_pos_weight': 2.5, 'reg_lambda': 1, 'reg_alpha': 0.1, 'n_estimators': 1000, 'max_depth': 10, 'learning_rate': 0.1, 'colsample_bytree': 1.0}\n",
            "Best Accuracy: 97.18%\n"
          ]
        }
      ],
      "source": [
        "print(\"Best Parameters:\", best_params)\n",
        "print(\"Best Accuracy: {:.2f}%\".format(best_accuracy * 100))"
      ]
    },
    {
      "cell_type": "code",
      "execution_count": 52,
      "metadata": {
        "id": "HIfuBgRZ7PBv"
      },
      "outputs": [],
      "source": [
        "import lightgbm as lgb"
      ]
    },
    {
      "cell_type": "code",
      "execution_count": 53,
      "metadata": {
        "id": "8NzQK-Rg7SWG"
      },
      "outputs": [],
      "source": [
        "seed = 7\n",
        "test_size = 0.33\n",
        "X_train, X_test, y_train, y_test = train_test_split(X, y, test_size=test_size, random_state=seed)"
      ]
    },
    {
      "cell_type": "code",
      "execution_count": 54,
      "metadata": {
        "colab": {
          "base_uri": "https://localhost:8080/"
        },
        "id": "yV8A6U8e7TM6",
        "outputId": "1bf98b49-d239-431d-fe4d-96f1114036de"
      },
      "outputs": [
        {
          "output_type": "stream",
          "name": "stdout",
          "text": [
            "[LightGBM] [Info] Number of positive: 320, number of negative: 1913\n",
            "[LightGBM] [Info] Auto-choosing col-wise multi-threading, the overhead of testing was 0.000636 seconds.\n",
            "You can set `force_col_wise=true` to remove the overhead.\n",
            "[LightGBM] [Info] Total Bins 3321\n",
            "[LightGBM] [Info] Number of data points in the train set: 2233, number of used features: 22\n",
            "[LightGBM] [Info] [binary:BoostFromScore]: pavg=0.143305 -> initscore=-1.788107\n",
            "[LightGBM] [Info] Start training from score -1.788107\n"
          ]
        }
      ],
      "source": [
        "lgbmodel = lgb.LGBMClassifier()\n",
        "lgbmodel = lgbmodel.fit(X_train, y_train)"
      ]
    },
    {
      "cell_type": "code",
      "execution_count": 55,
      "metadata": {
        "colab": {
          "base_uri": "https://localhost:8080/"
        },
        "id": "iQZ8wzYg7WRi",
        "outputId": "56064a19-428e-4551-ebf0-0b9109f94ecf"
      },
      "outputs": [
        {
          "output_type": "stream",
          "name": "stdout",
          "text": [
            "Training set accuracy: 100.0\n",
            "Testing set accuracy: 97.0\n"
          ]
        }
      ],
      "source": [
        "print(\"Training set accuracy:\", lgbmodel.score(X_train, y_train) * 100)\n",
        "print(\"Testing set accuracy:\", lgbmodel.score(X_test, y_test) * 100)"
      ]
    },
    {
      "cell_type": "code",
      "execution_count": 56,
      "metadata": {
        "id": "P26ZYT2c8L4M"
      },
      "outputs": [],
      "source": [
        "from sklearn.metrics import f1_score, recall_score, precision_score, roc_auc_score"
      ]
    },
    {
      "cell_type": "code",
      "execution_count": 57,
      "metadata": {
        "id": "39L8Kli79YTE"
      },
      "outputs": [],
      "source": [
        "# Random Forest\n",
        "rf_f1 = f1_score(y, rf)\n",
        "rf_recall = recall_score(y, rf)\n",
        "rf_precision = precision_score(y, rf)\n",
        "rf_roc_auc = roc_auc_score(y, rf)\n",
        "\n",
        "# XGBoost\n",
        "xgb_f1 = f1_score(y, xgbmodel.predict(X))\n",
        "xgb_recall = recall_score(y, xgbmodel.predict(X))\n",
        "xgb_precision = precision_score(y, xgbmodel.predict(X))\n",
        "xgb_roc_auc = roc_auc_score(y, xgbmodel.predict(X))\n",
        "\n",
        "# LightGBM\n",
        "lgb_f1 = f1_score(y, lgbmodel.predict(X))\n",
        "lgb_recall = recall_score(y, lgbmodel.predict(X))\n",
        "lgb_precision = precision_score(y, lgbmodel.predict(X))\n",
        "lgb_roc_auc = roc_auc_score(y, lgbmodel.predict(X))\n"
      ]
    },
    {
      "cell_type": "code",
      "execution_count": 58,
      "metadata": {
        "colab": {
          "base_uri": "https://localhost:8080/"
        },
        "id": "W8zQ_H-O9Zen",
        "outputId": "e49d98f2-4fee-450e-ce1c-62be931b0f58"
      },
      "outputs": [
        {
          "output_type": "stream",
          "name": "stdout",
          "text": [
            "           Model  F1-Score    Recall  Precision   ROC-AUC\n",
            "0  Random Forest  0.888136  0.813665   0.977612  0.905253\n",
            "1        XGBoost  0.965153  0.946170   0.984914  0.971857\n",
            "2       LightGBM  0.965300  0.950311   0.980769  0.973576\n"
          ]
        }
      ],
      "source": [
        "# Create a summary table\n",
        "summary_table = pd.DataFrame({\n",
        "    'Model': ['Random Forest', 'XGBoost', 'LightGBM'],\n",
        "    'F1-Score': [rf_f1, xgb_f1, lgb_f1],\n",
        "    'Recall': [rf_recall, xgb_recall, lgb_recall],\n",
        "    'Precision': [rf_precision, xgb_precision, lgb_precision],\n",
        "    'ROC-AUC': [rf_roc_auc, xgb_roc_auc, lgb_roc_auc]\n",
        "})\n",
        "\n",
        "# Display the summary table\n",
        "print(summary_table)"
      ]
    },
    {
      "cell_type": "code",
      "execution_count": 59,
      "metadata": {
        "colab": {
          "base_uri": "https://localhost:8080/",
          "height": 594
        },
        "id": "0XLWvIGm-jye",
        "outputId": "67646a80-52bc-4204-be5d-3da0f6601cb4"
      },
      "outputs": [
        {
          "output_type": "display_data",
          "data": {
            "text/plain": [
              "<Figure size 1000x600 with 1 Axes>"
            ],
            "image/png": "[encoded data removed]"
          },
          "metadata": {}
        }
      ],
      "source": [
        "# Model names and corresponding precision values\n",
        "models = ['Random Forest', 'XGBoost', 'LightGBM']\n",
        "precisions = [rf_precision, xgb_precision, lgb_precision]\n",
        "\n",
        "# Create a bar chart\n",
        "plt.figure(figsize=(10, 6))\n",
        "plt.bar(models, precisions, color='skyblue')\n",
        "plt.title('Precision of Different Models')\n",
        "plt.xlabel('Model')\n",
        "plt.ylabel('Precision')\n",
        "plt.ylim(0.9, 1.0)  # Adjust the y-axis limits for better visualization\n",
        "plt.xticks(rotation=15)  # Rotate x-axis labels for readability\n",
        "\n",
        "# Add precision values on top of the bars\n",
        "for i, precision in enumerate(precisions):\n",
        "    plt.text(i, precision + 0.005, f'{precision:.4f}', ha='center', va='bottom', fontsize=12)\n",
        "\n",
        "# Show the plot\n",
        "plt.tight_layout()\n",
        "plt.show()\n"
      ]
    }
  ],
  "metadata": {
    "colab": {
      "provenance": []
    },
    "kernelspec": {
      "display_name": "Python 3",
      "name": "python3"
    },
    "language_info": {
      "name": "python"
    }
  },
  "nbformat": 4,
  "nbformat_minor": 0
}